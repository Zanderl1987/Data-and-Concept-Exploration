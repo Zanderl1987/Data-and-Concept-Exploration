{
 "cells": [
  {
   "cell_type": "code",
   "execution_count": 1,
   "metadata": {},
   "outputs": [
    {
     "ename": "ModuleNotFoundError",
     "evalue": "No module named 'xarray'",
     "output_type": "error",
     "traceback": [
      "\u001b[1;31m---------------------------------------------------------------------------\u001b[0m",
      "\u001b[1;31mModuleNotFoundError\u001b[0m                       Traceback (most recent call last)",
      "\u001b[1;32m<ipython-input-1-5590f8e63807>\u001b[0m in \u001b[0;36m<module>\u001b[1;34m()\u001b[0m\n\u001b[1;32m----> 1\u001b[1;33m \u001b[1;32mimport\u001b[0m \u001b[0mxarray\u001b[0m \u001b[1;32mas\u001b[0m \u001b[0mxr\u001b[0m\u001b[1;33m\u001b[0m\u001b[0m\n\u001b[0m\u001b[0;32m      2\u001b[0m \u001b[1;32mimport\u001b[0m \u001b[0mtalib\u001b[0m \u001b[1;32mas\u001b[0m \u001b[0mta\u001b[0m\u001b[1;33m\u001b[0m\u001b[0m\n\u001b[0;32m      3\u001b[0m \u001b[1;32mfrom\u001b[0m \u001b[0mtalib\u001b[0m \u001b[1;32mimport\u001b[0m \u001b[0mabstract\u001b[0m\u001b[1;33m\u001b[0m\u001b[0m\n\u001b[0;32m      4\u001b[0m \u001b[1;32mimport\u001b[0m \u001b[0mtime\u001b[0m\u001b[1;33m\u001b[0m\u001b[0m\n\u001b[0;32m      5\u001b[0m \u001b[1;32mimport\u001b[0m \u001b[0mpandas\u001b[0m \u001b[1;32mas\u001b[0m \u001b[0mpd\u001b[0m\u001b[1;33m\u001b[0m\u001b[0m\n",
      "\u001b[1;31mModuleNotFoundError\u001b[0m: No module named 'xarray'"
     ]
    }
   ],
   "source": [
    "import xarray as xr\n",
    "import talib as ta\n",
    "from talib import abstract\n",
    "import time\n",
    "import pandas as pd\n",
    "from pandas import DataFrame\n",
    "from pandas import ExcelWriter\n",
    "import pandas_datareader.data as wb\n",
    "#from pandas_datareader import *\n",
    "#from pandas_datareader import data, wb\n",
    "#from pandas_datareader import Options\n",
    "import numpy as np\n",
    "import matplotlib as mpl\n",
    "import matplotlib.pyplot as plt\n",
    "import scipy\n",
    "from scipy import stats\n",
    "from scipy.stats import norm\n",
    "from scipy.stats import spearmanr\n",
    "import sys\n",
    "import datetime\n",
    "import os\n",
    "import time\n",
    "import matplotlib.cbook as cbook\n",
    "import csv\n",
    "#import statsmodels.formula.api as sm\n",
    "import seaborn as sns\n",
    "import math as mth\n",
    "from math import exp\n",
    "import pylab\n",
    "import pickle\n",
    "from bs4 import BeautifulSoup\n",
    "import re\n",
    "import nltk\n",
    "import string\n",
    "import pprint\n",
    "import sklearn\n",
    "from sklearn import svm, preprocessing\n",
    "from sklearn.svm import SVC\n",
    "from sklearn.linear_model import LogisticRegression\n",
    "from sklearn.metrics import classification_report, confusion_matrix\n",
    "from sklearn import cross_validation\n",
    "from sklearn import grid_search\n",
    "from sklearn.cross_validation import cross_val_score, ShuffleSplit, cross_val_predict\n",
    "from sklearn.metrics import accuracy_score\n",
    "from sklearn.ensemble import RandomForestClassifier, RandomForestRegressor\n",
    "from sklearn.discriminant_analysis import LinearDiscriminantAnalysis as LDA\n",
    "from sklearn.discriminant_analysis import QuadraticDiscriminantAnalysis as QDA\n",
    "from sklearn.svm import LinearSVC\n",
    "from sklearn.neighbors import KNeighborsClassifier, KNeighborsRegressor\n",
    "from sklearn.ensemble import ExtraTreesClassifier\n",
    "from sklearn.preprocessing import PolynomialFeatures\n",
    "import sklearn.preprocessing, sklearn.pipeline\n",
    "\n",
    "import bokeh\n",
    "from bokeh.plotting import *\n",
    "from collections import OrderedDict\n",
    "from bokeh.io import output_notebook\n",
    "from bokeh.charts import defaults, vplot, hplot, Histogram\n",
    "from bokeh.models import Toggle, BoxAnnotation, CustomJS\n",
    "#from bokeh.layouts import layout\n",
    "from bokeh import mpl\n",
    "output_notebook()\n",
    "\n",
    "import plotly\n",
    "import plotly.graph_objs as go\n",
    "from plotly.graph_objs import *\n",
    "import plotly.plotly as py\n",
    "import plotly.tools as tls\n",
    "import plotly.offline as offline\n",
    "from plotly.offline import download_plotlyjs, init_notebook_mode, plot, iplot\n",
    "import pytz\n",
    "\n",
    "\n",
    "import cufflinks as cf\n",
    "import colorlover as cl\n",
    "#Plotly API Information:(username='asl4af', api_key='7ut55tktdt')\n",
    "plotly.tools.set_credentials_file(username='asl4af',api_key='tABgqtk34aaX6NkmKAmO')\n",
    "\n",
    "#Make all charts public and set a global theme\n",
    "cf.set_config_file(world_readable=True,theme='pearl')\n",
    "\n",
    "\n",
    "tls.embed('https://plot.ly/~cufflinks/8')\n",
    "init_notebook_mode(connected=False)\n",
    "\n",
    "\n",
    "sns.set_style(\"white\")\n",
    "#sns.set_style(\"darkgrid\")\n",
    "#sns.set(style=\"darkgrid\", palette=\"Set2\")\n",
    "#sns.set(style=\"darkgrid\", context=\"paper\", font=\"monospace\")\n",
    "\n",
    "%matplotlib inline\n",
    "#mpl.style.use('ggplot')\n",
    "\n",
    "#import Quandl\n",
    "#import alphalens\n",
    "import pyfolio as pf\n",
    "\n",
    "from IPython.display import display\n",
    "\n",
    "from IPython.core.interactiveshell import InteractiveShell\n",
    "InteractiveShell.ast_node_interactivity = \"all\""
   ]
  },
  {
   "cell_type": "code",
   "execution_count": 2,
   "metadata": {},
   "outputs": [
    {
     "data": {
      "text/plain": [
       "['polar', 'space', 'ggplot', 'pearl', 'solar', 'white', 'henanigans']"
      ]
     },
     "execution_count": 2,
     "metadata": {},
     "output_type": "execute_result"
    }
   ],
   "source": [
    "cf.getThemes()"
   ]
  },
  {
   "cell_type": "code",
   "execution_count": 3,
   "metadata": {
    "collapsed": true
   },
   "outputs": [],
   "source": [
    "import pymssql\n",
    "import pypyodbc\n",
    "from os import getenv\n",
    "import _mssql\n",
    "\n",
    "# This code was recommended as a shortcut to iterate through some preliminary items that require a number of global variables\n",
    "# to be imported from sqldf. It was in the documentation.\n",
    "import pandasql\n",
    "from pandasql import sqldf\n",
    "pysqldf = lambda q: slqdf(q, globals())"
   ]
  },
  {
   "cell_type": "code",
   "execution_count": 4,
   "metadata": {
    "collapsed": true
   },
   "outputs": [],
   "source": [
    "server='qtsiqdbdv01'\n",
    "user='Zander_Luke'\n",
    "password='alpha'\n",
    "database='xf'\n",
    "\n",
    "server3='qtsiqdbdv02'\n",
    "user3='Zander_Luke'\n",
    "password3='zander'\n",
    "database3='ul'\n",
    "\n",
    "server2='SNLdb2'\n",
    "user2='SNL\\zanderl'\n",
    "password2='@ZSL4af1!'\n",
    "database2='master'"
   ]
  },
  {
   "cell_type": "code",
   "execution_count": 5,
   "metadata": {},
   "outputs": [],
   "source": [
    "conn = _mssql.connect(server='qtsiqdbdv01', user='Zander_Luke', password='alpha', database='xf')\n",
    "pysqlconn1 = pymssql.connect(server, user, password, database)\n",
    "pysqlconn2 = pymssql.connect(server3, user3, password3, database3)\n",
    "SNLConn1 = pymssql.connect(server=server2, user=user2, password=password2, database=database2)\n",
    "cursor = pysqlconn1.cursor()\n",
    "cursor = pysqlconn2.cursor()"
   ]
  },
  {
   "cell_type": "markdown",
   "metadata": {},
   "source": [
    "To reformat our dataframe and merge the duplicate values onto the unique datetime index we'll use Pandas' pivot() function which will try to condense all non-unique values into an index of unique values. In addition, we can specify which elements in our dataframe that we'd like to make columns and which elements should be values.\n",
    "\n",
    "We'll use the code shown here in the cell below to format our data before we return it from our function.\n",
    "\n",
    "df = df.pivot(index='asofdate',columns='factorname',values='factorvalue')"
   ]
  },
  {
   "cell_type": "code",
   "execution_count": 9,
   "metadata": {
    "collapsed": true
   },
   "outputs": [],
   "source": [
    "def GetData():\n",
    "    stmt = (\"SELECT mth.asofdate, mth.factorid, mth.factorvalue, mth.gvkey, mth.universeId, f.factorname \\\n",
    "            FROM ciqAfValueMonthlyNA mth \\\n",
    "            inner join ciqAfFactor f \\\n",
    "            on mth.factorid = f.factorid \\\n",
    "            WHERE mth.GVKey in ('001004','231367','062304') \\\n",
    "            and mth.asOfDate BETWEEN '1/1/2000' and '11/20/2017' \\\n",
    "            ORDER BY mth.factorid\")\n",
    "    #df = pd.read_sql(stmt,pysqlconn1,parse_dates=True)\n",
    "    #df = df.pivot(index='asofdate',columns='factorname',values='factorvalue')\n",
    "    df = pd.read_sql(stmt,pysqlconn1,parse_dates=True,index_col=['gvkey','factorname','asofdate','factorvalue'])\n",
    "    df.dropna(axis=1,inplace=True)\n",
    "    \n",
    "    return df\n",
    "\n",
    "def GetDataFiltered():\n",
    "    stmt = (\"SELECT mth.asofdate, mth.factorvalue, mth.gvkey, f.factorname \\\n",
    "            FROM ciqAfValueMonthlyNA mth \\\n",
    "            inner join ciqAfFactor f \\\n",
    "            on mth.factorid = f.factorid \\\n",
    "            WHERE mth.GVKey in ('001004','231367','062304') \\\n",
    "            and mth.asOfDate BETWEEN '1/1/2000' and '11/20/2017' \\\n",
    "            ORDER BY mth.factorid\")\n",
    "    #df = pd.read_sql(stmt,pysqlconn1,parse_dates=True)\n",
    "    #df = df.pivot(index='asofdate',columns='factorname',values='factorvalue')\n",
    "    df = pd.read_sql(stmt,pysqlconn1,parse_dates=True,index_col=['factorname','gvkey','asofdate','factorvalue'])\n",
    "    df.dropna(axis=1,inplace=True)\n",
    "    \n",
    "    return df\n",
    "\n",
    "def GetData2():\n",
    "    stmt = (\"SELECT * FROM ciqAfFactor\")\n",
    "    #df = df.pivot(index='asofdate',columns='factorname',values='factorvalue')\n",
    "    df = pd.read_sql(stmt,pysqlconn1)\n",
    "    \n",
    "    return df\n",
    "\n",
    "\n",
    "def Get_AFL_MonthlyData():\n",
    "    stmt = (\"SELECT mth.asofdate, mth.factorid, mth.factorvalue, mth.gvkey, mth.universeId, f.factorname \\\n",
    "            FROM ciqAfValueMonthlyNA mth \\\n",
    "            inner join ciqAfFactor f \\\n",
    "            on mth.factorid = f.factorid \\\n",
    "            WHERE mth.asOfDate BETWEEN '1/1/2015' and '11/20/2017' \\\n",
    "            ORDER BY mth.factorid\")\n",
    "    #df = pd.read_sql(stmt,pysqlconn1,parse_dates=True)\n",
    "    #df = df.pivot(index='asofdate',columns='factorname',values='factorvalue')\n",
    "    #df = pd.read_sql(stmt,pysqlconn1,parse_dates=True,index_col=['gvkey','factorname','asofdate','factorvalue'])\n",
    "    df = pd.read_sql(stmt,pysqlconn1,parse_dates=True,index_col='asofdate')\n",
    "    df.dropna(axis=1,inplace=True)\n",
    "    \n",
    "    return df\n",
    "\n",
    "def GetFactorData():\n",
    "    stmt = (\"SELECT mth.asofdate, mth.factorid, mth.factorvalue, mth.gvkey, mth.universeId, f.factorname \\\n",
    "            FROM ciqAfValueMonthlyNA mth \\\n",
    "            inner join ciqAfFactor f \\\n",
    "            on mth.factorid = f.factorid \\\n",
    "            WHERE mth.factorid in (39) \\\n",
    "            and mth.asOfDate BETWEEN '1/1/2000' and '11/20/2017' \\\n",
    "            and mth.factorvalue is not NULL \\\n",
    "            ORDER BY mth.asofdate\")\n",
    "    #df = pd.read_sql(stmt,pysqlconn1,parse_dates=True)\n",
    "    #df = df.pivot(index='asofdate',columns='factorname',values='factorvalue')\n",
    "    df = pd.read_sql(stmt,pysqlconn1,parse_dates=True,index_col='asofdate',columns='factorvalue')\n",
    "    df.dropna(axis=1,inplace=True)\n",
    "    \n",
    "    return df"
   ]
  },
  {
   "cell_type": "code",
   "execution_count": null,
   "metadata": {},
   "outputs": [],
   "source": [
    "%%time\n",
    "df1 = GetData()\n",
    "df1_f = GetDataFiltered()\n",
    "AFL_Ref = GetData2()\n",
    "AFL1 = Get_AFL_MonthlyData()"
   ]
  },
  {
   "cell_type": "code",
   "execution_count": 10,
   "metadata": {},
   "outputs": [
    {
     "name": "stdout",
     "output_type": "stream",
     "text": [
      "Wall time: 45.8 s\n"
     ]
    }
   ],
   "source": [
    "%%time\n",
    "F1 = GetFactorData()"
   ]
  },
  {
   "cell_type": "code",
   "execution_count": 11,
   "metadata": {
    "collapsed": true
   },
   "outputs": [],
   "source": [
    "import h5py\n",
    "file1 = h5py.File(\"FactorData1.hdf5\",\"w\")"
   ]
  },
  {
   "cell_type": "markdown",
   "metadata": {},
   "source": [
    "h5py documentation  \n",
    "http://docs.h5py.org/en/latest/quick.html"
   ]
  },
  {
   "cell_type": "code",
   "execution_count": 14,
   "metadata": {},
   "outputs": [
    {
     "data": {
      "text/html": [
       "<div>\n",
       "<table border=\"1\" class=\"dataframe\">\n",
       "  <thead>\n",
       "    <tr style=\"text-align: right;\">\n",
       "      <th></th>\n",
       "      <th>factorId</th>\n",
       "      <th>factorName</th>\n",
       "      <th>factorAbbreviation</th>\n",
       "      <th>styleId</th>\n",
       "      <th>factorDefinition</th>\n",
       "      <th>factorRelativeId</th>\n",
       "      <th>parentFactorId</th>\n",
       "    </tr>\n",
       "  </thead>\n",
       "  <tbody>\n",
       "    <tr>\n",
       "      <th>0</th>\n",
       "      <td>2</td>\n",
       "      <td>Return on Invested Capital</td>\n",
       "      <td>ROIC</td>\n",
       "      <td>6</td>\n",
       "      <td>This factor is the ratio of trailing four quar...</td>\n",
       "      <td>1001</td>\n",
       "      <td>NaN</td>\n",
       "    </tr>\n",
       "    <tr>\n",
       "      <th>1</th>\n",
       "      <td>4</td>\n",
       "      <td>Return on Equity</td>\n",
       "      <td>ROE</td>\n",
       "      <td>6</td>\n",
       "      <td>The ratio of trailing four quarter income befo...</td>\n",
       "      <td>1001</td>\n",
       "      <td>NaN</td>\n",
       "    </tr>\n",
       "    <tr>\n",
       "      <th>2</th>\n",
       "      <td>9</td>\n",
       "      <td>Return on Assets</td>\n",
       "      <td>ROA</td>\n",
       "      <td>6</td>\n",
       "      <td>ROA is the ratio of trailing four quarter afte...</td>\n",
       "      <td>1001</td>\n",
       "      <td>NaN</td>\n",
       "    </tr>\n",
       "    <tr>\n",
       "      <th>3</th>\n",
       "      <td>11</td>\n",
       "      <td>Cash Flow Return on Invested Capital</td>\n",
       "      <td>CFROIC</td>\n",
       "      <td>6</td>\n",
       "      <td>The factor measures a ratio of trailing four q...</td>\n",
       "      <td>1001</td>\n",
       "      <td>NaN</td>\n",
       "    </tr>\n",
       "    <tr>\n",
       "      <th>4</th>\n",
       "      <td>12</td>\n",
       "      <td>Debt to Assets Ratio</td>\n",
       "      <td>DA</td>\n",
       "      <td>6</td>\n",
       "      <td>The ratio of long term and short term debt to ...</td>\n",
       "      <td>1001</td>\n",
       "      <td>NaN</td>\n",
       "    </tr>\n",
       "    <tr>\n",
       "      <th>5</th>\n",
       "      <td>13</td>\n",
       "      <td>Long Term Debt to Equity Ratio</td>\n",
       "      <td>LTDE</td>\n",
       "      <td>6</td>\n",
       "      <td>The ratio of long term debt to total sharehold...</td>\n",
       "      <td>1001</td>\n",
       "      <td>NaN</td>\n",
       "    </tr>\n",
       "    <tr>\n",
       "      <th>6</th>\n",
       "      <td>14</td>\n",
       "      <td>Capital Acquisition Ratio</td>\n",
       "      <td>CapAcqRatio</td>\n",
       "      <td>6</td>\n",
       "      <td>The factor is a  ratio of trailing four quarte...</td>\n",
       "      <td>1001</td>\n",
       "      <td>NaN</td>\n",
       "    </tr>\n",
       "    <tr>\n",
       "      <th>7</th>\n",
       "      <td>15</td>\n",
       "      <td>Interest Coverage Ratio</td>\n",
       "      <td>IntCovRatio</td>\n",
       "      <td>6</td>\n",
       "      <td>The ratio of operating income after depreciati...</td>\n",
       "      <td>1001</td>\n",
       "      <td>NaN</td>\n",
       "    </tr>\n",
       "    <tr>\n",
       "      <th>8</th>\n",
       "      <td>18</td>\n",
       "      <td>1Y Chg in Shares Outstanding</td>\n",
       "      <td>ShareChg</td>\n",
       "      <td>6</td>\n",
       "      <td>The percentage change in common shares outstan...</td>\n",
       "      <td>1001</td>\n",
       "      <td>NaN</td>\n",
       "    </tr>\n",
       "    <tr>\n",
       "      <th>9</th>\n",
       "      <td>21</td>\n",
       "      <td>1Y Chg in Stock Buybacks</td>\n",
       "      <td>BuyBackChg</td>\n",
       "      <td>6</td>\n",
       "      <td>The factor is a percentage change from a year ...</td>\n",
       "      <td>1001</td>\n",
       "      <td>NaN</td>\n",
       "    </tr>\n",
       "    <tr>\n",
       "      <th>10</th>\n",
       "      <td>22</td>\n",
       "      <td>Cash Conversion Cycle</td>\n",
       "      <td>CashCycle</td>\n",
       "      <td>4</td>\n",
       "      <td>It's defined as the sum of average receivable ...</td>\n",
       "      <td>1001</td>\n",
       "      <td>NaN</td>\n",
       "    </tr>\n",
       "    <tr>\n",
       "      <th>11</th>\n",
       "      <td>23</td>\n",
       "      <td>Net Profit Margin</td>\n",
       "      <td>NetProfitMargin</td>\n",
       "      <td>4</td>\n",
       "      <td>It's defined as the ratio of trailing four qua...</td>\n",
       "      <td>1001</td>\n",
       "      <td>NaN</td>\n",
       "    </tr>\n",
       "    <tr>\n",
       "      <th>12</th>\n",
       "      <td>24</td>\n",
       "      <td>Working Capital Accruals</td>\n",
       "      <td>WCAccruals</td>\n",
       "      <td>4</td>\n",
       "      <td>The factor is defined as the change from four ...</td>\n",
       "      <td>1001</td>\n",
       "      <td>NaN</td>\n",
       "    </tr>\n",
       "    <tr>\n",
       "      <th>13</th>\n",
       "      <td>25</td>\n",
       "      <td>Balance Sheet Accruals</td>\n",
       "      <td>TotalAccruals</td>\n",
       "      <td>4</td>\n",
       "      <td>The sum of total receivables, inventory, other...</td>\n",
       "      <td>1001</td>\n",
       "      <td>NaN</td>\n",
       "    </tr>\n",
       "    <tr>\n",
       "      <th>14</th>\n",
       "      <td>26</td>\n",
       "      <td>Change in TTM Depr. to Capex</td>\n",
       "      <td>ChgDeprCapex</td>\n",
       "      <td>4</td>\n",
       "      <td>It's defined as the relative change in trailin...</td>\n",
       "      <td>1001</td>\n",
       "      <td>NaN</td>\n",
       "    </tr>\n",
       "    <tr>\n",
       "      <th>15</th>\n",
       "      <td>27</td>\n",
       "      <td>Asset Adjusted Capital Investments</td>\n",
       "      <td>InvToAsset</td>\n",
       "      <td>4</td>\n",
       "      <td>The ratio of the 1 year change in gross proper...</td>\n",
       "      <td>1001</td>\n",
       "      <td>NaN</td>\n",
       "    </tr>\n",
       "    <tr>\n",
       "      <th>16</th>\n",
       "      <td>28</td>\n",
       "      <td>Sales to Gross Profit Margin Growth</td>\n",
       "      <td>ChgSalesMargin</td>\n",
       "      <td>4</td>\n",
       "      <td>The percentage change in gross profit margin f...</td>\n",
       "      <td>1001</td>\n",
       "      <td>NaN</td>\n",
       "    </tr>\n",
       "    <tr>\n",
       "      <th>17</th>\n",
       "      <td>29</td>\n",
       "      <td>Book to Price</td>\n",
       "      <td>BP</td>\n",
       "      <td>5</td>\n",
       "      <td>The factor is a ratio of book value to market ...</td>\n",
       "      <td>1001</td>\n",
       "      <td>NaN</td>\n",
       "    </tr>\n",
       "    <tr>\n",
       "      <th>18</th>\n",
       "      <td>30</td>\n",
       "      <td>Cash to Total Assets</td>\n",
       "      <td>CashAst</td>\n",
       "      <td>5</td>\n",
       "      <td>The ratio of cash and short term investments t...</td>\n",
       "      <td>1001</td>\n",
       "      <td>NaN</td>\n",
       "    </tr>\n",
       "    <tr>\n",
       "      <th>19</th>\n",
       "      <td>31</td>\n",
       "      <td>Asset Turnover</td>\n",
       "      <td>AssetTurn</td>\n",
       "      <td>4</td>\n",
       "      <td>The ratio of trailing four quarter sales to av...</td>\n",
       "      <td>1001</td>\n",
       "      <td>NaN</td>\n",
       "    </tr>\n",
       "    <tr>\n",
       "      <th>20</th>\n",
       "      <td>32</td>\n",
       "      <td>Inventory Turnover</td>\n",
       "      <td>InvTurn</td>\n",
       "      <td>4</td>\n",
       "      <td>The ratio of trailing four quarter sales to av...</td>\n",
       "      <td>1001</td>\n",
       "      <td>NaN</td>\n",
       "    </tr>\n",
       "    <tr>\n",
       "      <th>21</th>\n",
       "      <td>33</td>\n",
       "      <td>Unexpected Receivables Change</td>\n",
       "      <td>UnexpectedRecChg</td>\n",
       "      <td>4</td>\n",
       "      <td>The difference between accounts receivable lev...</td>\n",
       "      <td>1001</td>\n",
       "      <td>NaN</td>\n",
       "    </tr>\n",
       "    <tr>\n",
       "      <th>22</th>\n",
       "      <td>34</td>\n",
       "      <td>12M - 1M Price Momentum</td>\n",
       "      <td>PM12M1M</td>\n",
       "      <td>1</td>\n",
       "      <td>The cumulative percentage stock price change o...</td>\n",
       "      <td>1001</td>\n",
       "      <td>NaN</td>\n",
       "    </tr>\n",
       "    <tr>\n",
       "      <th>23</th>\n",
       "      <td>35</td>\n",
       "      <td>1M Price Reversal</td>\n",
       "      <td>PM1M</td>\n",
       "      <td>1</td>\n",
       "      <td>The simple stock return over the past month.</td>\n",
       "      <td>1001</td>\n",
       "      <td>NaN</td>\n",
       "    </tr>\n",
       "    <tr>\n",
       "      <th>24</th>\n",
       "      <td>38</td>\n",
       "      <td>Log Market Cap</td>\n",
       "      <td>LogMktCap</td>\n",
       "      <td>7</td>\n",
       "      <td>The natural logarithm of market capitalization...</td>\n",
       "      <td>1001</td>\n",
       "      <td>NaN</td>\n",
       "    </tr>\n",
       "    <tr>\n",
       "      <th>25</th>\n",
       "      <td>39</td>\n",
       "      <td>12M Realized Price Volatility</td>\n",
       "      <td>AnnVol12M</td>\n",
       "      <td>8</td>\n",
       "      <td>The annualized volatility of monthly stock ret...</td>\n",
       "      <td>1001</td>\n",
       "      <td>NaN</td>\n",
       "    </tr>\n",
       "    <tr>\n",
       "      <th>26</th>\n",
       "      <td>40</td>\n",
       "      <td>1M Realized Price Volatility</td>\n",
       "      <td>AnnVol1M</td>\n",
       "      <td>8</td>\n",
       "      <td>The annualized volatility of daily returns ove...</td>\n",
       "      <td>1001</td>\n",
       "      <td>NaN</td>\n",
       "    </tr>\n",
       "    <tr>\n",
       "      <th>27</th>\n",
       "      <td>41</td>\n",
       "      <td>1M Price High - 1M Price Low</td>\n",
       "      <td>HL1M</td>\n",
       "      <td>1</td>\n",
       "      <td>The ratio of the monthly high minus the curren...</td>\n",
       "      <td>1001</td>\n",
       "      <td>NaN</td>\n",
       "    </tr>\n",
       "    <tr>\n",
       "      <th>28</th>\n",
       "      <td>42</td>\n",
       "      <td>Unexpected Inventory Change</td>\n",
       "      <td>UnexpectedInvChg</td>\n",
       "      <td>4</td>\n",
       "      <td>The factor measures difference between invento...</td>\n",
       "      <td>1001</td>\n",
       "      <td>NaN</td>\n",
       "    </tr>\n",
       "    <tr>\n",
       "      <th>29</th>\n",
       "      <td>43</td>\n",
       "      <td>Log TTM Sales</td>\n",
       "      <td>LogTTMSales</td>\n",
       "      <td>7</td>\n",
       "      <td>The natural logarithm of the trailing four qua...</td>\n",
       "      <td>1001</td>\n",
       "      <td>NaN</td>\n",
       "    </tr>\n",
       "    <tr>\n",
       "      <th>...</th>\n",
       "      <td>...</td>\n",
       "      <td>...</td>\n",
       "      <td>...</td>\n",
       "      <td>...</td>\n",
       "      <td>...</td>\n",
       "      <td>...</td>\n",
       "      <td>...</td>\n",
       "    </tr>\n",
       "    <tr>\n",
       "      <th>545</th>\n",
       "      <td>1008</td>\n",
       "      <td>Ind Grp Rel Earnings Surprise</td>\n",
       "      <td>IndRel_EPSSurpC</td>\n",
       "      <td>3</td>\n",
       "      <td>The difference between realized quarterly earn...</td>\n",
       "      <td>1002</td>\n",
       "      <td>957.0</td>\n",
       "    </tr>\n",
       "    <tr>\n",
       "      <th>546</th>\n",
       "      <td>1009</td>\n",
       "      <td>Ind Grp Rel Inverse PEG</td>\n",
       "      <td>IndRel_InvPEGC</td>\n",
       "      <td>3</td>\n",
       "      <td>The ratio of the sum of consensus estimates of...</td>\n",
       "      <td>1002</td>\n",
       "      <td>961.0</td>\n",
       "    </tr>\n",
       "    <tr>\n",
       "      <th>547</th>\n",
       "      <td>1010</td>\n",
       "      <td>Ind Grp Rel Forward Earnings to Price</td>\n",
       "      <td>IndRel_FwdEPC</td>\n",
       "      <td>5</td>\n",
       "      <td>The ratio of consensus estimates for the next ...</td>\n",
       "      <td>1002</td>\n",
       "      <td>980.0</td>\n",
       "    </tr>\n",
       "    <tr>\n",
       "      <th>548</th>\n",
       "      <td>1011</td>\n",
       "      <td>Ind Grp Rel Forward Free Cash Flow to Price Ratio</td>\n",
       "      <td>IndRel_FwdFCFPC</td>\n",
       "      <td>5</td>\n",
       "      <td>The ratio of the consensus forecast of annual ...</td>\n",
       "      <td>1002</td>\n",
       "      <td>981.0</td>\n",
       "    </tr>\n",
       "    <tr>\n",
       "      <th>549</th>\n",
       "      <td>1012</td>\n",
       "      <td>Ind Grp Rel Inverse P/E Ratio Adj for Growth a...</td>\n",
       "      <td>IndRel_InvPEGYC</td>\n",
       "      <td>5</td>\n",
       "      <td>The ratio of trailing four quarter earnings pe...</td>\n",
       "      <td>1002</td>\n",
       "      <td>982.0</td>\n",
       "    </tr>\n",
       "    <tr>\n",
       "      <th>550</th>\n",
       "      <td>1013</td>\n",
       "      <td>5 Yr Hist Rel Forward Earnings to Price</td>\n",
       "      <td>5YRel_FwdEPC</td>\n",
       "      <td>5</td>\n",
       "      <td>The ratio of consensus estimates for the next ...</td>\n",
       "      <td>1003</td>\n",
       "      <td>980.0</td>\n",
       "    </tr>\n",
       "    <tr>\n",
       "      <th>551</th>\n",
       "      <td>1014</td>\n",
       "      <td>5 Yr Hist Rel Forward Free Cash Flow to Price ...</td>\n",
       "      <td>5YRel_FwdFCFPC</td>\n",
       "      <td>5</td>\n",
       "      <td>The ratio of the consensus forecast of annual ...</td>\n",
       "      <td>1003</td>\n",
       "      <td>981.0</td>\n",
       "    </tr>\n",
       "    <tr>\n",
       "      <th>552</th>\n",
       "      <td>1015</td>\n",
       "      <td>5 Yr Hist Rel Inverse P/E Ratio Adj for Growth...</td>\n",
       "      <td>5YRel_InvPEGYC</td>\n",
       "      <td>5</td>\n",
       "      <td>The ratio of trailing four quarter earnings pe...</td>\n",
       "      <td>1003</td>\n",
       "      <td>982.0</td>\n",
       "    </tr>\n",
       "    <tr>\n",
       "      <th>553</th>\n",
       "      <td>1023</td>\n",
       "      <td>ROA Standard Deviation</td>\n",
       "      <td>ROAStddev</td>\n",
       "      <td>2</td>\n",
       "      <td>This factor is measured as the standard deviat...</td>\n",
       "      <td>1001</td>\n",
       "      <td>NaN</td>\n",
       "    </tr>\n",
       "    <tr>\n",
       "      <th>554</th>\n",
       "      <td>1024</td>\n",
       "      <td>ROE Standard Deviation</td>\n",
       "      <td>ROEStddev</td>\n",
       "      <td>2</td>\n",
       "      <td>This factor is measured as the standard deviat...</td>\n",
       "      <td>1001</td>\n",
       "      <td>NaN</td>\n",
       "    </tr>\n",
       "    <tr>\n",
       "      <th>555</th>\n",
       "      <td>1025</td>\n",
       "      <td>Dividend per Share Growth</td>\n",
       "      <td>DivperShareGrowth</td>\n",
       "      <td>2</td>\n",
       "      <td>This factor is the one year percent change in ...</td>\n",
       "      <td>1001</td>\n",
       "      <td>NaN</td>\n",
       "    </tr>\n",
       "    <tr>\n",
       "      <th>556</th>\n",
       "      <td>1179</td>\n",
       "      <td>Sharpe Ratio</td>\n",
       "      <td>SharpeRatio</td>\n",
       "      <td>1</td>\n",
       "      <td>Annualized Sharpe ratio of monthly return over...</td>\n",
       "      <td>1001</td>\n",
       "      <td>NaN</td>\n",
       "    </tr>\n",
       "    <tr>\n",
       "      <th>557</th>\n",
       "      <td>1180</td>\n",
       "      <td>Institution Ownership Turnover</td>\n",
       "      <td>IO_TO</td>\n",
       "      <td>1</td>\n",
       "      <td>Absolute change in shares held by institutiona...</td>\n",
       "      <td>1001</td>\n",
       "      <td>NaN</td>\n",
       "    </tr>\n",
       "    <tr>\n",
       "      <th>558</th>\n",
       "      <td>1181</td>\n",
       "      <td>Institution Ownership Concentration</td>\n",
       "      <td>IO_Concentration</td>\n",
       "      <td>1</td>\n",
       "      <td>Ratio of shares held by top 5 institutional in...</td>\n",
       "      <td>1001</td>\n",
       "      <td>NaN</td>\n",
       "    </tr>\n",
       "    <tr>\n",
       "      <th>559</th>\n",
       "      <td>1182</td>\n",
       "      <td>Ownership Breadth Stability of Institution Own...</td>\n",
       "      <td>IO_BreadthStabBY</td>\n",
       "      <td>1</td>\n",
       "      <td>Ratio of average number of buyers to stddev of...</td>\n",
       "      <td>1001</td>\n",
       "      <td>NaN</td>\n",
       "    </tr>\n",
       "    <tr>\n",
       "      <th>560</th>\n",
       "      <td>1183</td>\n",
       "      <td>Institution Ownership Level</td>\n",
       "      <td>IO_Level</td>\n",
       "      <td>1</td>\n",
       "      <td>Percentage of company shares owned by total in...</td>\n",
       "      <td>1001</td>\n",
       "      <td>NaN</td>\n",
       "    </tr>\n",
       "    <tr>\n",
       "      <th>561</th>\n",
       "      <td>1184</td>\n",
       "      <td>Foreign Institution Ownership</td>\n",
       "      <td>IO_Foreign</td>\n",
       "      <td>1</td>\n",
       "      <td>Percentage of shares held by foreign instituti...</td>\n",
       "      <td>1001</td>\n",
       "      <td>NaN</td>\n",
       "    </tr>\n",
       "    <tr>\n",
       "      <th>562</th>\n",
       "      <td>1185</td>\n",
       "      <td>Change of Ownership Level - All Managers</td>\n",
       "      <td>IO_ChgofIO_AM</td>\n",
       "      <td>1</td>\n",
       "      <td>Change in the total % ownership by all manager...</td>\n",
       "      <td>1001</td>\n",
       "      <td>NaN</td>\n",
       "    </tr>\n",
       "    <tr>\n",
       "      <th>563</th>\n",
       "      <td>1186</td>\n",
       "      <td>Change of Ownership Level - Hedge Fund</td>\n",
       "      <td>IO_ChgofIO_HF</td>\n",
       "      <td>1</td>\n",
       "      <td>Change in percent of ownership in Hedge Funds....</td>\n",
       "      <td>1001</td>\n",
       "      <td>NaN</td>\n",
       "    </tr>\n",
       "    <tr>\n",
       "      <th>564</th>\n",
       "      <td>1187</td>\n",
       "      <td>Stability of Change in Number of Holders</td>\n",
       "      <td>IO_StabofChgHD</td>\n",
       "      <td>1</td>\n",
       "      <td>Ratio of change in breadth to the standard dev...</td>\n",
       "      <td>1001</td>\n",
       "      <td>NaN</td>\n",
       "    </tr>\n",
       "    <tr>\n",
       "      <th>565</th>\n",
       "      <td>1188</td>\n",
       "      <td>Investment Duration</td>\n",
       "      <td>IO_InvDuration</td>\n",
       "      <td>1</td>\n",
       "      <td>The factor is defined by weighted average leng...</td>\n",
       "      <td>1001</td>\n",
       "      <td>NaN</td>\n",
       "    </tr>\n",
       "    <tr>\n",
       "      <th>566</th>\n",
       "      <td>1189</td>\n",
       "      <td>Institution Ownership Level - Active Manager</td>\n",
       "      <td>IO_Level_AM</td>\n",
       "      <td>1</td>\n",
       "      <td>Percentage of company shares owned by active m...</td>\n",
       "      <td>1001</td>\n",
       "      <td>NaN</td>\n",
       "    </tr>\n",
       "    <tr>\n",
       "      <th>567</th>\n",
       "      <td>1190</td>\n",
       "      <td>Change in Number of Holders</td>\n",
       "      <td>IO_ChgofNumHD</td>\n",
       "      <td>1</td>\n",
       "      <td>Quarterly change in number of holders in %; it...</td>\n",
       "      <td>1001</td>\n",
       "      <td>NaN</td>\n",
       "    </tr>\n",
       "    <tr>\n",
       "      <th>568</th>\n",
       "      <td>1191</td>\n",
       "      <td>Change in Number of Buyers</td>\n",
       "      <td>IO_ChgofNumBY</td>\n",
       "      <td>1</td>\n",
       "      <td>Quarterly change in number of buyers in %; it ...</td>\n",
       "      <td>1001</td>\n",
       "      <td>NaN</td>\n",
       "    </tr>\n",
       "    <tr>\n",
       "      <th>569</th>\n",
       "      <td>1192</td>\n",
       "      <td>Ownership Breadth Stability of Institution Own...</td>\n",
       "      <td>IO_BreadthStabHD</td>\n",
       "      <td>1</td>\n",
       "      <td>Measured by stability of number of holders. It...</td>\n",
       "      <td>1001</td>\n",
       "      <td>NaN</td>\n",
       "    </tr>\n",
       "    <tr>\n",
       "      <th>570</th>\n",
       "      <td>1197</td>\n",
       "      <td>Gross Profit to Assets</td>\n",
       "      <td>GrPftToAst</td>\n",
       "      <td>6</td>\n",
       "      <td>The ratio of trailing four quarter gross profi...</td>\n",
       "      <td>1001</td>\n",
       "      <td>NaN</td>\n",
       "    </tr>\n",
       "    <tr>\n",
       "      <th>571</th>\n",
       "      <td>1198</td>\n",
       "      <td>EBITDA to Assets</td>\n",
       "      <td>EbitdaToAst</td>\n",
       "      <td>6</td>\n",
       "      <td>The ratio of trailing four quarter EBITDA to t...</td>\n",
       "      <td>1001</td>\n",
       "      <td>NaN</td>\n",
       "    </tr>\n",
       "    <tr>\n",
       "      <th>572</th>\n",
       "      <td>1199</td>\n",
       "      <td>EBIT to Assets</td>\n",
       "      <td>EbitToAst</td>\n",
       "      <td>6</td>\n",
       "      <td>The ratio of trailing four quarter EBIT to tot...</td>\n",
       "      <td>1001</td>\n",
       "      <td>NaN</td>\n",
       "    </tr>\n",
       "    <tr>\n",
       "      <th>573</th>\n",
       "      <td>1200</td>\n",
       "      <td>Asset Growth - 1 Year</td>\n",
       "      <td>AstGrwth</td>\n",
       "      <td>6</td>\n",
       "      <td>One-year percent change in the simple average ...</td>\n",
       "      <td>1001</td>\n",
       "      <td>NaN</td>\n",
       "    </tr>\n",
       "    <tr>\n",
       "      <th>574</th>\n",
       "      <td>1201</td>\n",
       "      <td>Net Arbitrage Trading</td>\n",
       "      <td>IO_NAT</td>\n",
       "      <td>1</td>\n",
       "      <td>Net Arbitrage Trading is defined as the differ...</td>\n",
       "      <td>1001</td>\n",
       "      <td>NaN</td>\n",
       "    </tr>\n",
       "  </tbody>\n",
       "</table>\n",
       "<p>575 rows × 7 columns</p>\n",
       "</div>"
      ],
      "text/plain": [
       "     factorId                                         factorName  \\\n",
       "0           2                         Return on Invested Capital   \n",
       "1           4                                   Return on Equity   \n",
       "2           9                                   Return on Assets   \n",
       "3          11               Cash Flow Return on Invested Capital   \n",
       "4          12                               Debt to Assets Ratio   \n",
       "5          13                     Long Term Debt to Equity Ratio   \n",
       "6          14                          Capital Acquisition Ratio   \n",
       "7          15                            Interest Coverage Ratio   \n",
       "8          18                       1Y Chg in Shares Outstanding   \n",
       "9          21                           1Y Chg in Stock Buybacks   \n",
       "10         22                              Cash Conversion Cycle   \n",
       "11         23                                  Net Profit Margin   \n",
       "12         24                           Working Capital Accruals   \n",
       "13         25                             Balance Sheet Accruals   \n",
       "14         26                       Change in TTM Depr. to Capex   \n",
       "15         27                 Asset Adjusted Capital Investments   \n",
       "16         28                Sales to Gross Profit Margin Growth   \n",
       "17         29                                      Book to Price   \n",
       "18         30                               Cash to Total Assets   \n",
       "19         31                                     Asset Turnover   \n",
       "20         32                                 Inventory Turnover   \n",
       "21         33                      Unexpected Receivables Change   \n",
       "22         34                            12M - 1M Price Momentum   \n",
       "23         35                                  1M Price Reversal   \n",
       "24         38                                     Log Market Cap   \n",
       "25         39                      12M Realized Price Volatility   \n",
       "26         40                       1M Realized Price Volatility   \n",
       "27         41                       1M Price High - 1M Price Low   \n",
       "28         42                        Unexpected Inventory Change   \n",
       "29         43                                      Log TTM Sales   \n",
       "..        ...                                                ...   \n",
       "545      1008                      Ind Grp Rel Earnings Surprise   \n",
       "546      1009                            Ind Grp Rel Inverse PEG   \n",
       "547      1010              Ind Grp Rel Forward Earnings to Price   \n",
       "548      1011  Ind Grp Rel Forward Free Cash Flow to Price Ratio   \n",
       "549      1012  Ind Grp Rel Inverse P/E Ratio Adj for Growth a...   \n",
       "550      1013            5 Yr Hist Rel Forward Earnings to Price   \n",
       "551      1014  5 Yr Hist Rel Forward Free Cash Flow to Price ...   \n",
       "552      1015  5 Yr Hist Rel Inverse P/E Ratio Adj for Growth...   \n",
       "553      1023                             ROA Standard Deviation   \n",
       "554      1024                             ROE Standard Deviation   \n",
       "555      1025                          Dividend per Share Growth   \n",
       "556      1179                                       Sharpe Ratio   \n",
       "557      1180                     Institution Ownership Turnover   \n",
       "558      1181                Institution Ownership Concentration   \n",
       "559      1182  Ownership Breadth Stability of Institution Own...   \n",
       "560      1183                        Institution Ownership Level   \n",
       "561      1184                      Foreign Institution Ownership   \n",
       "562      1185           Change of Ownership Level - All Managers   \n",
       "563      1186             Change of Ownership Level - Hedge Fund   \n",
       "564      1187           Stability of Change in Number of Holders   \n",
       "565      1188                                Investment Duration   \n",
       "566      1189       Institution Ownership Level - Active Manager   \n",
       "567      1190                        Change in Number of Holders   \n",
       "568      1191                         Change in Number of Buyers   \n",
       "569      1192  Ownership Breadth Stability of Institution Own...   \n",
       "570      1197                             Gross Profit to Assets   \n",
       "571      1198                                   EBITDA to Assets   \n",
       "572      1199                                     EBIT to Assets   \n",
       "573      1200                              Asset Growth - 1 Year   \n",
       "574      1201                              Net Arbitrage Trading   \n",
       "\n",
       "    factorAbbreviation  styleId  \\\n",
       "0                 ROIC        6   \n",
       "1                  ROE        6   \n",
       "2                  ROA        6   \n",
       "3               CFROIC        6   \n",
       "4                   DA        6   \n",
       "5                 LTDE        6   \n",
       "6          CapAcqRatio        6   \n",
       "7          IntCovRatio        6   \n",
       "8             ShareChg        6   \n",
       "9           BuyBackChg        6   \n",
       "10           CashCycle        4   \n",
       "11     NetProfitMargin        4   \n",
       "12          WCAccruals        4   \n",
       "13       TotalAccruals        4   \n",
       "14        ChgDeprCapex        4   \n",
       "15          InvToAsset        4   \n",
       "16      ChgSalesMargin        4   \n",
       "17                  BP        5   \n",
       "18             CashAst        5   \n",
       "19           AssetTurn        4   \n",
       "20             InvTurn        4   \n",
       "21    UnexpectedRecChg        4   \n",
       "22             PM12M1M        1   \n",
       "23                PM1M        1   \n",
       "24           LogMktCap        7   \n",
       "25           AnnVol12M        8   \n",
       "26            AnnVol1M        8   \n",
       "27                HL1M        1   \n",
       "28    UnexpectedInvChg        4   \n",
       "29         LogTTMSales        7   \n",
       "..                 ...      ...   \n",
       "545    IndRel_EPSSurpC        3   \n",
       "546     IndRel_InvPEGC        3   \n",
       "547      IndRel_FwdEPC        5   \n",
       "548    IndRel_FwdFCFPC        5   \n",
       "549    IndRel_InvPEGYC        5   \n",
       "550       5YRel_FwdEPC        5   \n",
       "551     5YRel_FwdFCFPC        5   \n",
       "552     5YRel_InvPEGYC        5   \n",
       "553          ROAStddev        2   \n",
       "554          ROEStddev        2   \n",
       "555  DivperShareGrowth        2   \n",
       "556        SharpeRatio        1   \n",
       "557              IO_TO        1   \n",
       "558   IO_Concentration        1   \n",
       "559   IO_BreadthStabBY        1   \n",
       "560           IO_Level        1   \n",
       "561         IO_Foreign        1   \n",
       "562      IO_ChgofIO_AM        1   \n",
       "563      IO_ChgofIO_HF        1   \n",
       "564     IO_StabofChgHD        1   \n",
       "565     IO_InvDuration        1   \n",
       "566        IO_Level_AM        1   \n",
       "567      IO_ChgofNumHD        1   \n",
       "568      IO_ChgofNumBY        1   \n",
       "569   IO_BreadthStabHD        1   \n",
       "570         GrPftToAst        6   \n",
       "571        EbitdaToAst        6   \n",
       "572          EbitToAst        6   \n",
       "573           AstGrwth        6   \n",
       "574             IO_NAT        1   \n",
       "\n",
       "                                      factorDefinition  factorRelativeId  \\\n",
       "0    This factor is the ratio of trailing four quar...              1001   \n",
       "1    The ratio of trailing four quarter income befo...              1001   \n",
       "2    ROA is the ratio of trailing four quarter afte...              1001   \n",
       "3    The factor measures a ratio of trailing four q...              1001   \n",
       "4    The ratio of long term and short term debt to ...              1001   \n",
       "5    The ratio of long term debt to total sharehold...              1001   \n",
       "6    The factor is a  ratio of trailing four quarte...              1001   \n",
       "7    The ratio of operating income after depreciati...              1001   \n",
       "8    The percentage change in common shares outstan...              1001   \n",
       "9    The factor is a percentage change from a year ...              1001   \n",
       "10   It's defined as the sum of average receivable ...              1001   \n",
       "11   It's defined as the ratio of trailing four qua...              1001   \n",
       "12   The factor is defined as the change from four ...              1001   \n",
       "13   The sum of total receivables, inventory, other...              1001   \n",
       "14   It's defined as the relative change in trailin...              1001   \n",
       "15   The ratio of the 1 year change in gross proper...              1001   \n",
       "16   The percentage change in gross profit margin f...              1001   \n",
       "17   The factor is a ratio of book value to market ...              1001   \n",
       "18   The ratio of cash and short term investments t...              1001   \n",
       "19   The ratio of trailing four quarter sales to av...              1001   \n",
       "20   The ratio of trailing four quarter sales to av...              1001   \n",
       "21   The difference between accounts receivable lev...              1001   \n",
       "22   The cumulative percentage stock price change o...              1001   \n",
       "23        The simple stock return over the past month.              1001   \n",
       "24   The natural logarithm of market capitalization...              1001   \n",
       "25   The annualized volatility of monthly stock ret...              1001   \n",
       "26   The annualized volatility of daily returns ove...              1001   \n",
       "27   The ratio of the monthly high minus the curren...              1001   \n",
       "28   The factor measures difference between invento...              1001   \n",
       "29   The natural logarithm of the trailing four qua...              1001   \n",
       "..                                                 ...               ...   \n",
       "545  The difference between realized quarterly earn...              1002   \n",
       "546  The ratio of the sum of consensus estimates of...              1002   \n",
       "547  The ratio of consensus estimates for the next ...              1002   \n",
       "548  The ratio of the consensus forecast of annual ...              1002   \n",
       "549  The ratio of trailing four quarter earnings pe...              1002   \n",
       "550  The ratio of consensus estimates for the next ...              1003   \n",
       "551  The ratio of the consensus forecast of annual ...              1003   \n",
       "552  The ratio of trailing four quarter earnings pe...              1003   \n",
       "553  This factor is measured as the standard deviat...              1001   \n",
       "554  This factor is measured as the standard deviat...              1001   \n",
       "555  This factor is the one year percent change in ...              1001   \n",
       "556  Annualized Sharpe ratio of monthly return over...              1001   \n",
       "557  Absolute change in shares held by institutiona...              1001   \n",
       "558  Ratio of shares held by top 5 institutional in...              1001   \n",
       "559  Ratio of average number of buyers to stddev of...              1001   \n",
       "560  Percentage of company shares owned by total in...              1001   \n",
       "561  Percentage of shares held by foreign instituti...              1001   \n",
       "562  Change in the total % ownership by all manager...              1001   \n",
       "563  Change in percent of ownership in Hedge Funds....              1001   \n",
       "564  Ratio of change in breadth to the standard dev...              1001   \n",
       "565  The factor is defined by weighted average leng...              1001   \n",
       "566  Percentage of company shares owned by active m...              1001   \n",
       "567  Quarterly change in number of holders in %; it...              1001   \n",
       "568  Quarterly change in number of buyers in %; it ...              1001   \n",
       "569  Measured by stability of number of holders. It...              1001   \n",
       "570  The ratio of trailing four quarter gross profi...              1001   \n",
       "571  The ratio of trailing four quarter EBITDA to t...              1001   \n",
       "572  The ratio of trailing four quarter EBIT to tot...              1001   \n",
       "573  One-year percent change in the simple average ...              1001   \n",
       "574  Net Arbitrage Trading is defined as the differ...              1001   \n",
       "\n",
       "     parentFactorId  \n",
       "0               NaN  \n",
       "1               NaN  \n",
       "2               NaN  \n",
       "3               NaN  \n",
       "4               NaN  \n",
       "5               NaN  \n",
       "6               NaN  \n",
       "7               NaN  \n",
       "8               NaN  \n",
       "9               NaN  \n",
       "10              NaN  \n",
       "11              NaN  \n",
       "12              NaN  \n",
       "13              NaN  \n",
       "14              NaN  \n",
       "15              NaN  \n",
       "16              NaN  \n",
       "17              NaN  \n",
       "18              NaN  \n",
       "19              NaN  \n",
       "20              NaN  \n",
       "21              NaN  \n",
       "22              NaN  \n",
       "23              NaN  \n",
       "24              NaN  \n",
       "25              NaN  \n",
       "26              NaN  \n",
       "27              NaN  \n",
       "28              NaN  \n",
       "29              NaN  \n",
       "..              ...  \n",
       "545           957.0  \n",
       "546           961.0  \n",
       "547           980.0  \n",
       "548           981.0  \n",
       "549           982.0  \n",
       "550           980.0  \n",
       "551           981.0  \n",
       "552           982.0  \n",
       "553             NaN  \n",
       "554             NaN  \n",
       "555             NaN  \n",
       "556             NaN  \n",
       "557             NaN  \n",
       "558             NaN  \n",
       "559             NaN  \n",
       "560             NaN  \n",
       "561             NaN  \n",
       "562             NaN  \n",
       "563             NaN  \n",
       "564             NaN  \n",
       "565             NaN  \n",
       "566             NaN  \n",
       "567             NaN  \n",
       "568             NaN  \n",
       "569             NaN  \n",
       "570             NaN  \n",
       "571             NaN  \n",
       "572             NaN  \n",
       "573             NaN  \n",
       "574             NaN  \n",
       "\n",
       "[575 rows x 7 columns]"
      ]
     },
     "execution_count": 14,
     "metadata": {},
     "output_type": "execute_result"
    }
   ],
   "source": [
    "AFL_Ref"
   ]
  },
  {
   "cell_type": "code",
   "execution_count": 12,
   "metadata": {},
   "outputs": [
    {
     "data": {
      "text/html": [
       "<div>\n",
       "<style scoped>\n",
       "    .dataframe tbody tr th:only-of-type {\n",
       "        vertical-align: middle;\n",
       "    }\n",
       "\n",
       "    .dataframe tbody tr th {\n",
       "        vertical-align: top;\n",
       "    }\n",
       "\n",
       "    .dataframe thead th {\n",
       "        text-align: right;\n",
       "    }\n",
       "</style>\n",
       "<table border=\"1\" class=\"dataframe\">\n",
       "  <thead>\n",
       "    <tr style=\"text-align: right;\">\n",
       "      <th></th>\n",
       "      <th>factorid</th>\n",
       "      <th>factorvalue</th>\n",
       "      <th>gvkey</th>\n",
       "      <th>universeId</th>\n",
       "      <th>factorname</th>\n",
       "    </tr>\n",
       "    <tr>\n",
       "      <th>asofdate</th>\n",
       "      <th></th>\n",
       "      <th></th>\n",
       "      <th></th>\n",
       "      <th></th>\n",
       "      <th></th>\n",
       "    </tr>\n",
       "  </thead>\n",
       "  <tbody>\n",
       "    <tr>\n",
       "      <th>2000-01-31</th>\n",
       "      <td>39</td>\n",
       "      <td>0.304101</td>\n",
       "      <td>001036</td>\n",
       "      <td>2110</td>\n",
       "      <td>12M Realized Price Volatility</td>\n",
       "    </tr>\n",
       "    <tr>\n",
       "      <th>2000-01-31</th>\n",
       "      <td>39</td>\n",
       "      <td>0.432765</td>\n",
       "      <td>001081</td>\n",
       "      <td>2110</td>\n",
       "      <td>12M Realized Price Volatility</td>\n",
       "    </tr>\n",
       "    <tr>\n",
       "      <th>2000-01-31</th>\n",
       "      <td>39</td>\n",
       "      <td>0.412914</td>\n",
       "      <td>001096</td>\n",
       "      <td>2110</td>\n",
       "      <td>12M Realized Price Volatility</td>\n",
       "    </tr>\n",
       "    <tr>\n",
       "      <th>2000-01-31</th>\n",
       "      <td>39</td>\n",
       "      <td>0.514032</td>\n",
       "      <td>001186</td>\n",
       "      <td>2110</td>\n",
       "      <td>12M Realized Price Volatility</td>\n",
       "    </tr>\n",
       "    <tr>\n",
       "      <th>2000-01-31</th>\n",
       "      <td>39</td>\n",
       "      <td>0.380935</td>\n",
       "      <td>001189</td>\n",
       "      <td>2110</td>\n",
       "      <td>12M Realized Price Volatility</td>\n",
       "    </tr>\n",
       "  </tbody>\n",
       "</table>\n",
       "</div>"
      ],
      "text/plain": [
       "            factorid  factorvalue   gvkey  universeId  \\\n",
       "asofdate                                                \n",
       "2000-01-31        39     0.304101  001036        2110   \n",
       "2000-01-31        39     0.432765  001081        2110   \n",
       "2000-01-31        39     0.412914  001096        2110   \n",
       "2000-01-31        39     0.514032  001186        2110   \n",
       "2000-01-31        39     0.380935  001189        2110   \n",
       "\n",
       "                               factorname  \n",
       "asofdate                                   \n",
       "2000-01-31  12M Realized Price Volatility  \n",
       "2000-01-31  12M Realized Price Volatility  \n",
       "2000-01-31  12M Realized Price Volatility  \n",
       "2000-01-31  12M Realized Price Volatility  \n",
       "2000-01-31  12M Realized Price Volatility  "
      ]
     },
     "execution_count": 12,
     "metadata": {},
     "output_type": "execute_result"
    },
    {
     "data": {
      "text/plain": [
       "(3171648, 5)"
      ]
     },
     "execution_count": 12,
     "metadata": {},
     "output_type": "execute_result"
    }
   ],
   "source": [
    "F1.head()\n",
    "F1.shape"
   ]
  },
  {
   "cell_type": "code",
   "execution_count": 14,
   "metadata": {
    "collapsed": true
   },
   "outputs": [],
   "source": [
    "F1.drop(['factorid', 'factorname','universeId'],axis=0,inplace=True)"
   ]
  },
  {
   "cell_type": "code",
   "execution_count": null,
   "metadata": {
    "collapsed": true
   },
   "outputs": [],
   "source": []
  },
  {
   "cell_type": "code",
   "execution_count": 28,
   "metadata": {},
   "outputs": [],
   "source": [
    "F1_t = F1.iloc[::,1].T"
   ]
  },
  {
   "cell_type": "code",
   "execution_count": 26,
   "metadata": {},
   "outputs": [
    {
     "data": {
      "text/plain": [
       "factorname                  asofdate  \n",
       "Return on Invested Capital  2016-01-31    0.127794\n",
       "                            2016-01-31    0.153751\n",
       "                            2016-01-31    0.077047\n",
       "                            2016-01-31    0.340885\n",
       "                            2016-01-31    0.015547\n",
       "Name: factorvalue, dtype: float64"
      ]
     },
     "execution_count": 26,
     "metadata": {},
     "output_type": "execute_result"
    },
    {
     "data": {
      "text/plain": [
       "(441369L,)"
      ]
     },
     "execution_count": 26,
     "metadata": {},
     "output_type": "execute_result"
    }
   ],
   "source": [
    "F1_t.head()\n",
    "F1_t.shape"
   ]
  },
  {
   "cell_type": "code",
   "execution_count": 35,
   "metadata": {},
   "outputs": [],
   "source": [
    "ROIC = F1_t.loc['Return on Invested Capital']\n",
    "MPR = F1_t.loc['1M Price Reversal']"
   ]
  },
  {
   "cell_type": "code",
   "execution_count": 40,
   "metadata": {},
   "outputs": [
    {
     "data": {
      "text/plain": [
       "(164521L,)"
      ]
     },
     "execution_count": 40,
     "metadata": {},
     "output_type": "execute_result"
    },
    {
     "data": {
      "text/plain": [
       "(276848L,)"
      ]
     },
     "execution_count": 40,
     "metadata": {},
     "output_type": "execute_result"
    }
   ],
   "source": [
    "ROIC.shape\n",
    "MPR.shape"
   ]
  },
  {
   "cell_type": "code",
   "execution_count": 13,
   "metadata": {},
   "outputs": [],
   "source": [
    "#dftest = pd.merge(ROIC,MPR,how='inner')"
   ]
  },
  {
   "cell_type": "code",
   "execution_count": 36,
   "metadata": {},
   "outputs": [
    {
     "data": {
      "text/html": [
       "<div>\n",
       "<table border=\"1\" class=\"dataframe\">\n",
       "  <thead>\n",
       "    <tr style=\"text-align: right;\">\n",
       "      <th></th>\n",
       "      <th></th>\n",
       "      <th></th>\n",
       "      <th></th>\n",
       "      <th>factorid</th>\n",
       "      <th>universeId</th>\n",
       "    </tr>\n",
       "    <tr>\n",
       "      <th>gvkey</th>\n",
       "      <th>factorname</th>\n",
       "      <th>asofdate</th>\n",
       "      <th>factorvalue</th>\n",
       "      <th></th>\n",
       "      <th></th>\n",
       "    </tr>\n",
       "  </thead>\n",
       "  <tbody>\n",
       "    <tr>\n",
       "      <th rowspan=\"5\" valign=\"top\">001004</th>\n",
       "      <th rowspan=\"5\" valign=\"top\">Return on Invested Capital</th>\n",
       "      <th>2000-01-31</th>\n",
       "      <th>0.112534</th>\n",
       "      <td>2</td>\n",
       "      <td>2109</td>\n",
       "    </tr>\n",
       "    <tr>\n",
       "      <th>2000-02-29</th>\n",
       "      <th>0.112534</th>\n",
       "      <td>2</td>\n",
       "      <td>2109</td>\n",
       "    </tr>\n",
       "    <tr>\n",
       "      <th>2000-03-31</th>\n",
       "      <th>0.112534</th>\n",
       "      <td>2</td>\n",
       "      <td>2109</td>\n",
       "    </tr>\n",
       "    <tr>\n",
       "      <th>2000-04-30</th>\n",
       "      <th>0.113815</th>\n",
       "      <td>2</td>\n",
       "      <td>2109</td>\n",
       "    </tr>\n",
       "    <tr>\n",
       "      <th>2000-05-31</th>\n",
       "      <th>0.113815</th>\n",
       "      <td>2</td>\n",
       "      <td>2109</td>\n",
       "    </tr>\n",
       "  </tbody>\n",
       "</table>\n",
       "</div>"
      ],
      "text/plain": [
       "                                                          factorid  universeId\n",
       "gvkey  factorname                 asofdate   factorvalue                      \n",
       "001004 Return on Invested Capital 2000-01-31 0.112534            2        2109\n",
       "                                  2000-02-29 0.112534            2        2109\n",
       "                                  2000-03-31 0.112534            2        2109\n",
       "                                  2000-04-30 0.113815            2        2109\n",
       "                                  2000-05-31 0.113815            2        2109"
      ]
     },
     "execution_count": 36,
     "metadata": {},
     "output_type": "execute_result"
    },
    {
     "data": {
      "text/html": [
       "<div>\n",
       "<table border=\"1\" class=\"dataframe\">\n",
       "  <thead>\n",
       "    <tr style=\"text-align: right;\">\n",
       "      <th></th>\n",
       "      <th></th>\n",
       "      <th></th>\n",
       "      <th></th>\n",
       "    </tr>\n",
       "    <tr>\n",
       "      <th>gvkey</th>\n",
       "      <th>factorname</th>\n",
       "      <th>asofdate</th>\n",
       "      <th>factorvalue</th>\n",
       "    </tr>\n",
       "  </thead>\n",
       "  <tbody>\n",
       "    <tr>\n",
       "      <th rowspan=\"5\" valign=\"top\">001004</th>\n",
       "      <th rowspan=\"5\" valign=\"top\">Return on Invested Capital</th>\n",
       "      <th>2000-01-31</th>\n",
       "      <th>0.112534</th>\n",
       "    </tr>\n",
       "    <tr>\n",
       "      <th>2000-02-29</th>\n",
       "      <th>0.112534</th>\n",
       "    </tr>\n",
       "    <tr>\n",
       "      <th>2000-03-31</th>\n",
       "      <th>0.112534</th>\n",
       "    </tr>\n",
       "    <tr>\n",
       "      <th>2000-04-30</th>\n",
       "      <th>0.113815</th>\n",
       "    </tr>\n",
       "    <tr>\n",
       "      <th>2000-05-31</th>\n",
       "      <th>0.113815</th>\n",
       "    </tr>\n",
       "  </tbody>\n",
       "</table>\n",
       "</div>"
      ],
      "text/plain": [
       "Empty DataFrame\n",
       "Columns: []\n",
       "Index: [(001004, Return on Invested Capital, 2000-01-31 00:00:00, 0.112534), (001004, Return on Invested Capital, 2000-02-29 00:00:00, 0.112534), (001004, Return on Invested Capital, 2000-03-31 00:00:00, 0.112534), (001004, Return on Invested Capital, 2000-04-30 00:00:00, 0.113815), (001004, Return on Invested Capital, 2000-05-31 00:00:00, 0.113815)]"
      ]
     },
     "execution_count": 36,
     "metadata": {},
     "output_type": "execute_result"
    }
   ],
   "source": [
    "df1.head()\n",
    "df1_f.head()"
   ]
  },
  {
   "cell_type": "code",
   "execution_count": 18,
   "metadata": {},
   "outputs": [
    {
     "data": {
      "text/html": [
       "<div>\n",
       "<table border=\"1\" class=\"dataframe\">\n",
       "  <thead>\n",
       "    <tr style=\"text-align: right;\">\n",
       "      <th></th>\n",
       "      <th>factorid</th>\n",
       "      <th>universeId</th>\n",
       "    </tr>\n",
       "  </thead>\n",
       "  <tbody>\n",
       "    <tr>\n",
       "      <th>count</th>\n",
       "      <td>228640.000000</td>\n",
       "      <td>228640.0</td>\n",
       "    </tr>\n",
       "    <tr>\n",
       "      <th>mean</th>\n",
       "      <td>517.234412</td>\n",
       "      <td>2109.0</td>\n",
       "    </tr>\n",
       "    <tr>\n",
       "      <th>std</th>\n",
       "      <td>335.170227</td>\n",
       "      <td>0.0</td>\n",
       "    </tr>\n",
       "    <tr>\n",
       "      <th>min</th>\n",
       "      <td>2.000000</td>\n",
       "      <td>2109.0</td>\n",
       "    </tr>\n",
       "    <tr>\n",
       "      <th>25%</th>\n",
       "      <td>215.000000</td>\n",
       "      <td>2109.0</td>\n",
       "    </tr>\n",
       "    <tr>\n",
       "      <th>50%</th>\n",
       "      <td>507.000000</td>\n",
       "      <td>2109.0</td>\n",
       "    </tr>\n",
       "    <tr>\n",
       "      <th>75%</th>\n",
       "      <td>837.000000</td>\n",
       "      <td>2109.0</td>\n",
       "    </tr>\n",
       "    <tr>\n",
       "      <th>max</th>\n",
       "      <td>1201.000000</td>\n",
       "      <td>2109.0</td>\n",
       "    </tr>\n",
       "  </tbody>\n",
       "</table>\n",
       "</div>"
      ],
      "text/plain": [
       "            factorid  universeId\n",
       "count  228640.000000    228640.0\n",
       "mean      517.234412      2109.0\n",
       "std       335.170227         0.0\n",
       "min         2.000000      2109.0\n",
       "25%       215.000000      2109.0\n",
       "50%       507.000000      2109.0\n",
       "75%       837.000000      2109.0\n",
       "max      1201.000000      2109.0"
      ]
     },
     "execution_count": 18,
     "metadata": {},
     "output_type": "execute_result"
    }
   ],
   "source": [
    "df_stats = df1.describe()\n",
    "df_stats"
   ]
  },
  {
   "cell_type": "code",
   "execution_count": 20,
   "metadata": {},
   "outputs": [],
   "source": [
    "#df_stats.iloc[1:]"
   ]
  },
  {
   "cell_type": "code",
   "execution_count": 23,
   "metadata": {},
   "outputs": [
    {
     "data": {
      "text/plain": [
       "(228640, 2)"
      ]
     },
     "execution_count": 23,
     "metadata": {},
     "output_type": "execute_result"
    },
    {
     "data": {
      "text/plain": [
       "Index([u'count', u'mean', u'std', u'min', u'25%', u'50%', u'75%', u'max'], dtype='object')"
      ]
     },
     "execution_count": 23,
     "metadata": {},
     "output_type": "execute_result"
    }
   ],
   "source": [
    "df1.shape\n",
    "df_stats.index"
   ]
  },
  {
   "cell_type": "code",
   "execution_count": 24,
   "metadata": {},
   "outputs": [
    {
     "data": {
      "text/html": [
       "<iframe id=\"igraph\" scrolling=\"no\" style=\"border:none;\" seamless=\"seamless\" src=\"https://plot.ly/~asl4af/1398.embed\" height=\"525px\" width=\"100%\"></iframe>"
      ],
      "text/plain": [
       "<plotly.tools.PlotlyDisplay object>"
      ]
     },
     "execution_count": 24,
     "metadata": {},
     "output_type": "execute_result"
    }
   ],
   "source": [
    "df_stats.iloc[1:].iplot(kind='bar')"
   ]
  },
  {
   "cell_type": "code",
   "execution_count": 28,
   "metadata": {},
   "outputs": [
    {
     "name": "stdout",
     "output_type": "stream",
     "text": [
      "factorid\n",
      "universeId\n"
     ]
    }
   ],
   "source": [
    "for col in df1.columns:\n",
    "    print(''.join(col))"
   ]
  },
  {
   "cell_type": "code",
   "execution_count": 31,
   "metadata": {},
   "outputs": [],
   "source": [
    "df_corr = df1.corr(method='pearson', min_periods=1)"
   ]
  },
  {
   "cell_type": "code",
   "execution_count": 32,
   "metadata": {},
   "outputs": [
    {
     "data": {
      "text/html": [
       "<div>\n",
       "<table border=\"1\" class=\"dataframe\">\n",
       "  <thead>\n",
       "    <tr style=\"text-align: right;\">\n",
       "      <th></th>\n",
       "      <th>factorid</th>\n",
       "      <th>universeId</th>\n",
       "    </tr>\n",
       "  </thead>\n",
       "  <tbody>\n",
       "    <tr>\n",
       "      <th>factorid</th>\n",
       "      <td>1.0</td>\n",
       "      <td>NaN</td>\n",
       "    </tr>\n",
       "    <tr>\n",
       "      <th>universeId</th>\n",
       "      <td>NaN</td>\n",
       "      <td>NaN</td>\n",
       "    </tr>\n",
       "  </tbody>\n",
       "</table>\n",
       "</div>"
      ],
      "text/plain": [
       "            factorid  universeId\n",
       "factorid         1.0         NaN\n",
       "universeId       NaN         NaN"
      ]
     },
     "execution_count": 32,
     "metadata": {},
     "output_type": "execute_result"
    }
   ],
   "source": [
    "df_corr"
   ]
  },
  {
   "cell_type": "markdown",
   "metadata": {},
   "source": [
    "We can use the .iloc[] slicing method to specify how many or specifically which df[rows,columns] we want to use as seen below."
   ]
  },
  {
   "cell_type": "code",
   "execution_count": 33,
   "metadata": {},
   "outputs": [
    {
     "data": {
      "text/html": [
       "<div>\n",
       "<table border=\"1\" class=\"dataframe\">\n",
       "  <thead>\n",
       "    <tr style=\"text-align: right;\">\n",
       "      <th></th>\n",
       "      <th></th>\n",
       "      <th></th>\n",
       "      <th></th>\n",
       "      <th>factorid</th>\n",
       "      <th>universeId</th>\n",
       "    </tr>\n",
       "    <tr>\n",
       "      <th>gvkey</th>\n",
       "      <th>factorname</th>\n",
       "      <th>asofdate</th>\n",
       "      <th>factorvalue</th>\n",
       "      <th></th>\n",
       "      <th></th>\n",
       "    </tr>\n",
       "  </thead>\n",
       "  <tbody>\n",
       "    <tr>\n",
       "      <th rowspan=\"7\" valign=\"top\">001004</th>\n",
       "      <th rowspan=\"7\" valign=\"top\">Return on Invested Capital</th>\n",
       "      <th>2000-01-31</th>\n",
       "      <th>0.112534</th>\n",
       "      <td>2</td>\n",
       "      <td>2109</td>\n",
       "    </tr>\n",
       "    <tr>\n",
       "      <th>2000-02-29</th>\n",
       "      <th>0.112534</th>\n",
       "      <td>2</td>\n",
       "      <td>2109</td>\n",
       "    </tr>\n",
       "    <tr>\n",
       "      <th>2000-03-31</th>\n",
       "      <th>0.112534</th>\n",
       "      <td>2</td>\n",
       "      <td>2109</td>\n",
       "    </tr>\n",
       "    <tr>\n",
       "      <th>2000-04-30</th>\n",
       "      <th>0.113815</th>\n",
       "      <td>2</td>\n",
       "      <td>2109</td>\n",
       "    </tr>\n",
       "    <tr>\n",
       "      <th>2000-05-31</th>\n",
       "      <th>0.113815</th>\n",
       "      <td>2</td>\n",
       "      <td>2109</td>\n",
       "    </tr>\n",
       "    <tr>\n",
       "      <th>2000-06-30</th>\n",
       "      <th>0.113815</th>\n",
       "      <td>2</td>\n",
       "      <td>2109</td>\n",
       "    </tr>\n",
       "    <tr>\n",
       "      <th>2000-07-31</th>\n",
       "      <th>0.113815</th>\n",
       "      <td>2</td>\n",
       "      <td>2109</td>\n",
       "    </tr>\n",
       "  </tbody>\n",
       "</table>\n",
       "</div>"
      ],
      "text/plain": [
       "                                                          factorid  universeId\n",
       "gvkey  factorname                 asofdate   factorvalue                      \n",
       "001004 Return on Invested Capital 2000-01-31 0.112534            2        2109\n",
       "                                  2000-02-29 0.112534            2        2109\n",
       "                                  2000-03-31 0.112534            2        2109\n",
       "                                  2000-04-30 0.113815            2        2109\n",
       "                                  2000-05-31 0.113815            2        2109\n",
       "                                  2000-06-30 0.113815            2        2109\n",
       "                                  2000-07-31 0.113815            2        2109"
      ]
     },
     "execution_count": 33,
     "metadata": {},
     "output_type": "execute_result"
    }
   ],
   "source": [
    "df1.iloc[:7,:5]"
   ]
  },
  {
   "cell_type": "code",
   "execution_count": 34,
   "metadata": {},
   "outputs": [],
   "source": [
    "#df1.iloc[:,5:10].iplot(theme='space')"
   ]
  },
  {
   "cell_type": "code",
   "execution_count": 37,
   "metadata": {},
   "outputs": [
    {
     "ename": "PlotlyEmptyDataError",
     "evalue": "Empty data list found. Make sure that you populated the list of data objects you're sending and try again.\nQuestions? support@plot.ly",
     "output_type": "error",
     "traceback": [
      "\u001b[1;31m---------------------------------------------------------------------------\u001b[0m",
      "\u001b[1;31mPlotlyEmptyDataError\u001b[0m                      Traceback (most recent call last)",
      "\u001b[1;32m<ipython-input-37-d5f6038abd44>\u001b[0m in \u001b[0;36m<module>\u001b[1;34m()\u001b[0m\n\u001b[1;32m----> 1\u001b[1;33m \u001b[0mdf1\u001b[0m\u001b[1;33m.\u001b[0m\u001b[0miloc\u001b[0m\u001b[1;33m[\u001b[0m\u001b[1;33m:\u001b[0m\u001b[1;33m,\u001b[0m\u001b[1;36m12\u001b[0m\u001b[1;33m:\u001b[0m\u001b[1;36m14\u001b[0m\u001b[1;33m]\u001b[0m\u001b[1;33m.\u001b[0m\u001b[0miplot\u001b[0m\u001b[1;33m(\u001b[0m\u001b[0mkind\u001b[0m\u001b[1;33m=\u001b[0m\u001b[1;34m'histogram'\u001b[0m\u001b[1;33m,\u001b[0m\u001b[0mtheme\u001b[0m\u001b[1;33m=\u001b[0m\u001b[1;34m'space'\u001b[0m\u001b[1;33m,\u001b[0m\u001b[0mbins\u001b[0m\u001b[1;33m=\u001b[0m\u001b[1;36m100\u001b[0m\u001b[1;33m)\u001b[0m\u001b[1;33m\u001b[0m\u001b[0m\n\u001b[0m",
      "\u001b[1;32mC:\\Anaconda\\lib\\site-packages\\cufflinks\\plotlytools.pyc\u001b[0m in \u001b[0;36m_iplot\u001b[1;34m(self, data, layout, filename, sharing, kind, title, xTitle, yTitle, zTitle, theme, colors, colorscale, fill, width, dash, mode, symbol, size, barmode, sortbars, bargap, bargroupgap, bins, histnorm, histfunc, orientation, boxpoints, annotations, keys, bestfit, bestfit_colors, mean, mean_colors, categories, x, y, z, text, gridcolor, zerolinecolor, margin, labels, values, secondary_y, subplots, shape, error_x, error_y, error_type, locations, lon, lat, asFrame, asDates, asFigure, asImage, dimensions, asPlot, asUrl, online, **kwargs)\u001b[0m\n\u001b[0;32m    955\u001b[0m                 \u001b[1;32mreturn\u001b[0m \u001b[0mpy\u001b[0m\u001b[1;33m.\u001b[0m\u001b[0mplot\u001b[0m\u001b[1;33m(\u001b[0m\u001b[0mfigure\u001b[0m\u001b[1;33m,\u001b[0m\u001b[0msharing\u001b[0m\u001b[1;33m=\u001b[0m\u001b[0msharing\u001b[0m\u001b[1;33m,\u001b[0m\u001b[0mfilename\u001b[0m\u001b[1;33m=\u001b[0m\u001b[0mfilename\u001b[0m\u001b[1;33m,\u001b[0m\u001b[0mvalidate\u001b[0m\u001b[1;33m=\u001b[0m\u001b[0mvalidate\u001b[0m\u001b[1;33m,\u001b[0m\u001b[0mauto_open\u001b[0m\u001b[1;33m=\u001b[0m\u001b[0mFalse\u001b[0m\u001b[1;33m)\u001b[0m\u001b[1;33m\u001b[0m\u001b[0m\n\u001b[0;32m    956\u001b[0m         \u001b[1;32melse\u001b[0m\u001b[1;33m:\u001b[0m\u001b[1;33m\u001b[0m\u001b[0m\n\u001b[1;32m--> 957\u001b[1;33m                 \u001b[1;32mreturn\u001b[0m \u001b[0miplot\u001b[0m\u001b[1;33m(\u001b[0m\u001b[0mfigure\u001b[0m\u001b[1;33m,\u001b[0m\u001b[0msharing\u001b[0m\u001b[1;33m=\u001b[0m\u001b[0msharing\u001b[0m\u001b[1;33m,\u001b[0m\u001b[0mfilename\u001b[0m\u001b[1;33m=\u001b[0m\u001b[0mfilename\u001b[0m\u001b[1;33m,\u001b[0m\u001b[0mvalidate\u001b[0m\u001b[1;33m=\u001b[0m\u001b[0mvalidate\u001b[0m\u001b[1;33m,\u001b[0m\u001b[0monline\u001b[0m\u001b[1;33m=\u001b[0m\u001b[0monline\u001b[0m\u001b[1;33m)\u001b[0m\u001b[1;33m\u001b[0m\u001b[0m\n\u001b[0m\u001b[0;32m    958\u001b[0m \u001b[1;33m\u001b[0m\u001b[0m\n\u001b[0;32m    959\u001b[0m \u001b[1;33m\u001b[0m\u001b[0m\n",
      "\u001b[1;32mC:\\Anaconda\\lib\\site-packages\\cufflinks\\plotlytools.pyc\u001b[0m in \u001b[0;36miplot\u001b[1;34m(data_or_figure, validate, sharing, filename, online, **kwargs)\u001b[0m\n\u001b[0;32m   1099\u001b[0m                         \u001b[0mfilename\u001b[0m\u001b[1;33m=\u001b[0m\u001b[1;34m'Plotly Playground {0}'\u001b[0m\u001b[1;33m.\u001b[0m\u001b[0mformat\u001b[0m\u001b[1;33m(\u001b[0m\u001b[0mtime\u001b[0m\u001b[1;33m.\u001b[0m\u001b[0mstrftime\u001b[0m\u001b[1;33m(\u001b[0m\u001b[1;34m\"%Y-%m-%d %H:%M:%S\"\u001b[0m\u001b[1;33m)\u001b[0m\u001b[1;33m)\u001b[0m\u001b[1;33m\u001b[0m\u001b[0m\n\u001b[0;32m   1100\u001b[0m \t\treturn py.iplot(data_or_figure,validate=validate,sharing=sharing,\n\u001b[1;32m-> 1101\u001b[1;33m \t\t\t\t\t\tfilename=filename)\n\u001b[0m\u001b[0;32m   1102\u001b[0m \u001b[1;33m\u001b[0m\u001b[0m\n\u001b[0;32m   1103\u001b[0m \u001b[1;32mdef\u001b[0m \u001b[0m_ta_figure\u001b[0m\u001b[1;33m(\u001b[0m\u001b[0mself\u001b[0m\u001b[1;33m,\u001b[0m\u001b[1;33m**\u001b[0m\u001b[0mkwargs\u001b[0m\u001b[1;33m)\u001b[0m\u001b[1;33m:\u001b[0m\u001b[1;33m\u001b[0m\u001b[0m\n",
      "\u001b[1;32mC:\\Anaconda\\lib\\site-packages\\plotly\\plotly\\plotly.pyc\u001b[0m in \u001b[0;36miplot\u001b[1;34m(figure_or_data, **plot_options)\u001b[0m\n\u001b[0;32m    149\u001b[0m     \u001b[1;32mif\u001b[0m \u001b[1;34m'auto_open'\u001b[0m \u001b[1;32mnot\u001b[0m \u001b[1;32min\u001b[0m \u001b[0mplot_options\u001b[0m\u001b[1;33m:\u001b[0m\u001b[1;33m\u001b[0m\u001b[0m\n\u001b[0;32m    150\u001b[0m         \u001b[0mplot_options\u001b[0m\u001b[1;33m[\u001b[0m\u001b[1;34m'auto_open'\u001b[0m\u001b[1;33m]\u001b[0m \u001b[1;33m=\u001b[0m \u001b[0mFalse\u001b[0m\u001b[1;33m\u001b[0m\u001b[0m\n\u001b[1;32m--> 151\u001b[1;33m     \u001b[0murl\u001b[0m \u001b[1;33m=\u001b[0m \u001b[0mplot\u001b[0m\u001b[1;33m(\u001b[0m\u001b[0mfigure_or_data\u001b[0m\u001b[1;33m,\u001b[0m \u001b[1;33m**\u001b[0m\u001b[0mplot_options\u001b[0m\u001b[1;33m)\u001b[0m\u001b[1;33m\u001b[0m\u001b[0m\n\u001b[0m\u001b[0;32m    152\u001b[0m \u001b[1;33m\u001b[0m\u001b[0m\n\u001b[0;32m    153\u001b[0m     \u001b[1;32mif\u001b[0m \u001b[0misinstance\u001b[0m\u001b[1;33m(\u001b[0m\u001b[0mfigure_or_data\u001b[0m\u001b[1;33m,\u001b[0m \u001b[0mdict\u001b[0m\u001b[1;33m)\u001b[0m\u001b[1;33m:\u001b[0m\u001b[1;33m\u001b[0m\u001b[0m\n",
      "\u001b[1;32mC:\\Anaconda\\lib\\site-packages\\plotly\\plotly\\plotly.pyc\u001b[0m in \u001b[0;36mplot\u001b[1;34m(figure_or_data, validate, **plot_options)\u001b[0m\n\u001b[0;32m    210\u001b[0m \u001b[1;33m\u001b[0m\u001b[0m\n\u001b[0;32m    211\u001b[0m     \"\"\"\n\u001b[1;32m--> 212\u001b[1;33m     \u001b[0mfigure\u001b[0m \u001b[1;33m=\u001b[0m \u001b[0mtools\u001b[0m\u001b[1;33m.\u001b[0m\u001b[0mreturn_figure_from_figure_or_data\u001b[0m\u001b[1;33m(\u001b[0m\u001b[0mfigure_or_data\u001b[0m\u001b[1;33m,\u001b[0m \u001b[0mvalidate\u001b[0m\u001b[1;33m)\u001b[0m\u001b[1;33m\u001b[0m\u001b[0m\n\u001b[0m\u001b[0;32m    213\u001b[0m \u001b[1;33m\u001b[0m\u001b[0m\n\u001b[0;32m    214\u001b[0m     \u001b[1;32mfor\u001b[0m \u001b[0mentry\u001b[0m \u001b[1;32min\u001b[0m \u001b[0mfigure\u001b[0m\u001b[1;33m[\u001b[0m\u001b[1;34m'data'\u001b[0m\u001b[1;33m]\u001b[0m\u001b[1;33m:\u001b[0m\u001b[1;33m\u001b[0m\u001b[0m\n",
      "\u001b[1;32mC:\\Anaconda\\lib\\site-packages\\plotly\\tools.pyc\u001b[0m in \u001b[0;36mreturn_figure_from_figure_or_data\u001b[1;34m(figure_or_data, validate_figure)\u001b[0m\n\u001b[0;32m   1446\u001b[0m         \u001b[1;32mif\u001b[0m \u001b[1;32mnot\u001b[0m \u001b[0mfigure\u001b[0m\u001b[1;33m[\u001b[0m\u001b[1;34m'data'\u001b[0m\u001b[1;33m]\u001b[0m\u001b[1;33m:\u001b[0m\u001b[1;33m\u001b[0m\u001b[0m\n\u001b[0;32m   1447\u001b[0m             raise exceptions.PlotlyEmptyDataError(\n\u001b[1;32m-> 1448\u001b[1;33m                 \u001b[1;34m\"Empty data list found. Make sure that you populated the \"\u001b[0m\u001b[1;33m\u001b[0m\u001b[0m\n\u001b[0m\u001b[0;32m   1449\u001b[0m                 \u001b[1;34m\"list of data objects you're sending and try again.\\n\"\u001b[0m\u001b[1;33m\u001b[0m\u001b[0m\n\u001b[0;32m   1450\u001b[0m                 \u001b[1;34m\"Questions? support@plot.ly\"\u001b[0m\u001b[1;33m\u001b[0m\u001b[0m\n",
      "\u001b[1;31mPlotlyEmptyDataError\u001b[0m: Empty data list found. Make sure that you populated the list of data objects you're sending and try again.\nQuestions? support@plot.ly"
     ]
    }
   ],
   "source": [
    "df1.iloc[:,12:14].iplot(kind='histogram',theme='space',bins=100)"
   ]
  },
  {
   "cell_type": "code",
   "execution_count": 18,
   "metadata": {},
   "outputs": [
    {
     "data": {
      "text/html": [
       "<iframe id=\"igraph\" scrolling=\"no\" style=\"border:none;\" seamless=\"seamless\" src=\"https://plot.ly/~asl4af/1277.embed\" height=\"525px\" width=\"100%\"></iframe>"
      ],
      "text/plain": [
       "<plotly.tools.PlotlyDisplay object>"
      ]
     },
     "execution_count": 18,
     "metadata": {},
     "output_type": "execute_result"
    }
   ],
   "source": [
    "df1.iloc[:,15:19].iplot(kind='histogram',theme='white',bins=100)"
   ]
  },
  {
   "cell_type": "code",
   "execution_count": 19,
   "metadata": {},
   "outputs": [
    {
     "data": {
      "text/html": [
       "<iframe id=\"igraph\" scrolling=\"no\" style=\"border:none;\" seamless=\"seamless\" src=\"https://plot.ly/~asl4af/1279.embed\" height=\"525px\" width=\"100%\"></iframe>"
      ],
      "text/plain": [
       "<plotly.tools.PlotlyDisplay object>"
      ]
     },
     "execution_count": 19,
     "metadata": {},
     "output_type": "execute_result"
    }
   ],
   "source": [
    "df_corr.iloc[:10,:10].iplot(kind='heatmap')"
   ]
  },
  {
   "cell_type": "code",
   "execution_count": 20,
   "metadata": {},
   "outputs": [
    {
     "data": {
      "text/html": [
       "<iframe id=\"igraph\" scrolling=\"no\" style=\"border:none;\" seamless=\"seamless\" src=\"https://plot.ly/~asl4af/1281.embed\" height=\"525px\" width=\"100%\"></iframe>"
      ],
      "text/plain": [
       "<plotly.tools.PlotlyDisplay object>"
      ]
     },
     "execution_count": 20,
     "metadata": {},
     "output_type": "execute_result"
    }
   ],
   "source": [
    "df_corr.iloc[10:20,10:20].iplot(kind='heatmap')"
   ]
  },
  {
   "cell_type": "code",
   "execution_count": 117,
   "metadata": {
    "scrolled": true
   },
   "outputs": [
    {
     "data": {
      "text/html": [
       "<div>\n",
       "<table border=\"1\" class=\"dataframe\">\n",
       "  <thead>\n",
       "    <tr style=\"text-align: right;\">\n",
       "      <th>factorname</th>\n",
       "      <th>10 Day MACD Trend</th>\n",
       "      <th>12 month Relative Price Strength</th>\n",
       "      <th>12-Quarter Trendline in Trailing 12-Month Cash Flows</th>\n",
       "    </tr>\n",
       "    <tr>\n",
       "      <th>factorname</th>\n",
       "      <th></th>\n",
       "      <th></th>\n",
       "      <th></th>\n",
       "    </tr>\n",
       "  </thead>\n",
       "  <tbody>\n",
       "    <tr>\n",
       "      <th>10 Day MACD Trend</th>\n",
       "      <td>1.000000</td>\n",
       "      <td>-0.121161</td>\n",
       "      <td>-0.068766</td>\n",
       "    </tr>\n",
       "    <tr>\n",
       "      <th>12 month Relative Price Strength</th>\n",
       "      <td>-0.121161</td>\n",
       "      <td>1.000000</td>\n",
       "      <td>0.011956</td>\n",
       "    </tr>\n",
       "  </tbody>\n",
       "</table>\n",
       "</div>"
      ],
      "text/plain": [
       "factorname                        10 Day MACD Trend  \\\n",
       "factorname                                            \n",
       "10 Day MACD Trend                          1.000000   \n",
       "12 month Relative Price Strength          -0.121161   \n",
       "\n",
       "factorname                        12 month Relative Price Strength  \\\n",
       "factorname                                                           \n",
       "10 Day MACD Trend                                        -0.121161   \n",
       "12 month Relative Price Strength                          1.000000   \n",
       "\n",
       "factorname                        12-Quarter Trendline in Trailing 12-Month Cash Flows  \n",
       "factorname                                                                              \n",
       "10 Day MACD Trend                                                         -0.068766     \n",
       "12 month Relative Price Strength                                           0.011956     "
      ]
     },
     "execution_count": 117,
     "metadata": {},
     "output_type": "execute_result"
    }
   ],
   "source": [
    "df_corr.iloc[:2,:3]"
   ]
  },
  {
   "cell_type": "code",
   "execution_count": 119,
   "metadata": {
    "scrolled": true
   },
   "outputs": [
    {
     "data": {
      "text/plain": [
       "factorname\n",
       "12 month Relative Price Strength                                            1.000000\n",
       "Volatility adjusted 12M return                                              0.871853\n",
       "Slope of 52W Price Trend                                                    0.640898\n",
       "12M - 1M Price Momentum                                                     0.639743\n",
       "Ind Grp Rel 12M - 1M Price Momentum                                         0.582878\n",
       "39W Lagged Return                                                           0.549514\n",
       "180D Price TStat                                                            0.543106\n",
       "50 Day to 200 Day Stock Price                                               0.521667\n",
       "52-Week Volume Price Trend with 20-Day Lag                                  0.521320\n",
       "15/36 Week Price Ratio                                                      0.504098\n",
       "Sharpe Ratio                                                                0.486789\n",
       "Closing Price to 52 Week High                                               0.434376\n",
       "Percent Above 260-Day Low                                                   0.428044\n",
       "Log of Unadjusted Stock Price                                               0.401640\n",
       "Log of Market Capitalization Cubed                                          0.383720\n",
       "Log Market Cap                                                              0.382806\n",
       "9 Month Price Momentum                                                      0.368502\n",
       "5 Yr Hist Rel Tobin's Q Ratio                                               0.315991\n",
       "Ind Grp Rel Working Capital to Sales                                        0.293945\n",
       "Ind Grp Rel 9M Price Momentum                                               0.292579\n",
       "Ind Grp Rel Inventory Turnover                                              0.289470\n",
       "5 Yr Hist Rel Solvency Ratio                                                0.286919\n",
       "26W Relative Price Strength                                                 0.286661\n",
       "60M CAPM Alpha                                                              0.286165\n",
       "60M CAPM Beta                                                               0.282870\n",
       "26W Price Stat                                                              0.281475\n",
       "6 Months Price Reversal                                                     0.277117\n",
       "1Y Chg in Cash Flow per Share                                               0.265555\n",
       "5 Yr Hist Rel Operating Margin                                              0.246221\n",
       "Adj Forward Free Cash Flow to Price Ratio                                   0.244570\n",
       "                                                                              ...   \n",
       "Normalized ROE                                                             -0.265361\n",
       "14-Day Relative Strength Index                                             -0.271446\n",
       "Number of Consecutive Qtrs of Positive Changes in TTM Quarterly Earnings   -0.274441\n",
       "Historical Growth                                                          -0.281159\n",
       "Standardized 36M Residual                                                  -0.283444\n",
       "Dividends to Price Ratio                                                   -0.292653\n",
       "20-Day Lane's Stochastic Indicator                                         -0.297165\n",
       "EBITDA to Price                                                            -0.299238\n",
       "1M Realized Price Volatility                                               -0.312909\n",
       "Max Daily Return in the Past 6 Months                                      -0.315338\n",
       "Ind Grp Rel 1M Price Reversal                                              -0.317147\n",
       "5 Yr Hist Rel EBITDA to Price                                              -0.323262\n",
       "Adjusted Book to Enterprise Value                                          -0.325528\n",
       "Consecutive Quarters of Declines in TTM Overhead/Sales                     -0.341313\n",
       "12M Realized Price Volatility                                              -0.344875\n",
       "1Y Chg in Debt to Assets                                                   -0.350370\n",
       "Normalized ROA                                                             -0.352939\n",
       "Normalized EP                                                              -0.369135\n",
       "1M Price Reversal                                                          -0.373562\n",
       "Current Liability to Price                                                 -0.375026\n",
       "Book to Price                                                              -0.384615\n",
       "Assets to Price Ratio                                                      -0.393968\n",
       "5 Yr Hist Rel Sales to EV Ratio                                            -0.431635\n",
       "Sales to Price Ratio                                                       -0.433773\n",
       "Sales to EV Ratio                                                          -0.439294\n",
       "5 Yr Hist Rel Sales to Price Ratio                                         -0.446873\n",
       "5 Yr Hist Rel Assets to Price Ratio                                        -0.452246\n",
       "5 Yr Hist Rel Book to Price                                                -0.456259\n",
       "4W to 52W Price Oscillator                                                 -0.465187\n",
       "Price Momentum                                                             -0.640202\n",
       "Name: 12 month Relative Price Strength, dtype: float64"
      ]
     },
     "execution_count": 119,
     "metadata": {},
     "output_type": "execute_result"
    }
   ],
   "source": [
    "df_corr['12 month Relative Price Strength'].sort_values(ascending=False)"
   ]
  },
  {
   "cell_type": "code",
   "execution_count": null,
   "metadata": {},
   "outputs": [],
   "source": []
  },
  {
   "cell_type": "code",
   "execution_count": null,
   "metadata": {},
   "outputs": [],
   "source": []
  },
  {
   "cell_type": "code",
   "execution_count": null,
   "metadata": {},
   "outputs": [],
   "source": []
  },
  {
   "cell_type": "code",
   "execution_count": null,
   "metadata": {},
   "outputs": [],
   "source": []
  },
  {
   "cell_type": "code",
   "execution_count": 70,
   "metadata": {
    "collapsed": true
   },
   "outputs": [],
   "source": []
  },
  {
   "cell_type": "code",
   "execution_count": null,
   "metadata": {},
   "outputs": [],
   "source": []
  },
  {
   "cell_type": "code",
   "execution_count": 83,
   "metadata": {},
   "outputs": [],
   "source": [
    "df2 = df1\n",
    "y = df2['ETF_Count'].shift(-1)\n",
    "y.fillna(value=-99999,inplace=True)\n",
    "x = df2.drop(['ETF_Count'],axis=1)\n",
    "feature_names = list(x.columns)\n",
    "#x_df = df3.drop(['t+1'],axis=0,inplace=True)\n",
    "#df3.head(2)"
   ]
  },
  {
   "cell_type": "code",
   "execution_count": 84,
   "metadata": {},
   "outputs": [
    {
     "data": {
      "text/plain": [
       "(22L,)"
      ]
     },
     "execution_count": 84,
     "metadata": {},
     "output_type": "execute_result"
    },
    {
     "data": {
      "text/plain": [
       "(22, 7)"
      ]
     },
     "execution_count": 84,
     "metadata": {},
     "output_type": "execute_result"
    }
   ],
   "source": [
    "y.shape\n",
    "x.shape"
   ]
  },
  {
   "cell_type": "code",
   "execution_count": 85,
   "metadata": {},
   "outputs": [],
   "source": [
    "from sklearn.model_selection import train_test_split\n",
    "from sklearn import preprocessing\n",
    "\n",
    "X = preprocessing.scale(X)\n",
    "\n",
    "X_train, X_test, y_train, y_test = train_test_split(X,y,random_state=0,test_size=0.4)"
   ]
  },
  {
   "cell_type": "code",
   "execution_count": 86,
   "metadata": {},
   "outputs": [],
   "source": [
    "from sklearn.tree import DecisionTreeRegressor\n",
    "from sklearn.svm import SVR\n",
    "from sklearn.neural_network import MLPRegressor\n",
    "from sklearn.ensemble import GradientBoostingRegressor\n",
    "\n",
    "RFR = RandomForestRegressor(n_jobs=-1).fit(X_train, y_train)\n",
    "KNNR = KNeighborsRegressor(n_jobs=-1).fit(X_train, y_train)\n",
    "MLPR = MLPRegressor().fit(X_train, y_train)\n",
    "DTR = DecisionTreeRegressor().fit(X_train, y_train)\n",
    "SVR_model = SVR(kernel='rbf',degree=3,gamma='auto').fit(X_train, y_train)"
   ]
  },
  {
   "cell_type": "code",
   "execution_count": 87,
   "metadata": {},
   "outputs": [
    {
     "data": {
      "text/plain": [
       "'RFR Test set score: -0.128586632365'"
      ]
     },
     "execution_count": 87,
     "metadata": {},
     "output_type": "execute_result"
    },
    {
     "data": {
      "text/plain": [
       "'KNNR Test set score: -0.129140009957'"
      ]
     },
     "execution_count": 87,
     "metadata": {},
     "output_type": "execute_result"
    },
    {
     "data": {
      "text/plain": [
       "'MLPR Test set score: -0.108785655208'"
      ]
     },
     "execution_count": 87,
     "metadata": {},
     "output_type": "execute_result"
    },
    {
     "data": {
      "text/plain": [
       "'DTR Test set score: -0.138991451904'"
      ]
     },
     "execution_count": 87,
     "metadata": {},
     "output_type": "execute_result"
    },
    {
     "data": {
      "text/plain": [
       "'SVR_model Test set score: -0.110812872704'"
      ]
     },
     "execution_count": 87,
     "metadata": {},
     "output_type": "execute_result"
    }
   ],
   "source": [
    "\"RFR Test set score: {:}\".format(RFR.score(X_test,y_test))\n",
    "\"KNNR Test set score: {:}\".format(KNNR.score(X_test,y_test))\n",
    "\"MLPR Test set score: {:}\".format(MLPR.score(X_test,y_test))\n",
    "\"DTR Test set score: {:}\".format(DTR.score(X_test,y_test))\n",
    "\"SVR_model Test set score: {:}\".format(SVR_model.score(X_test,y_test))"
   ]
  },
  {
   "cell_type": "code",
   "execution_count": 88,
   "metadata": {},
   "outputs": [],
   "source": [
    "feature_importance_RFR = sorted(zip(map(lambda x: round(x,4),RFR.feature_importances_),feature_names),reverse=True)"
   ]
  },
  {
   "cell_type": "code",
   "execution_count": 89,
   "metadata": {},
   "outputs": [
    {
     "data": {
      "text/plain": [
       "[(0.5404, 'AvgHourlyEarnings'),\n",
       " (0.308, 'TenYear_Yield'),\n",
       " (0.1214, 'UnemployRate'),\n",
       " (0.0231, 'CoreCPIChg'),\n",
       " (0.0048, 'SP500_TR'),\n",
       " (0.0014, 'PslSvgsRate'),\n",
       " (0.0009, 'GDP_Growth')]"
      ]
     },
     "execution_count": 89,
     "metadata": {},
     "output_type": "execute_result"
    }
   ],
   "source": [
    "feature_importance_RFR"
   ]
  },
  {
   "cell_type": "markdown",
   "metadata": {},
   "source": [
    "We can use the below code to generate an array of prdicted values that is the same length as the input y variable using cross validation.\n",
    "\n",
    "from sklearn.model_selection import cross_val_predict\n",
    "\n",
    "\n",
    "pred = cross_val_predict(RFR,X,y)"
   ]
  },
  {
   "cell_type": "code",
   "execution_count": 90,
   "metadata": {
    "collapsed": true
   },
   "outputs": [],
   "source": [
    "from sklearn.model_selection import cross_val_predict\n",
    "pred_RFR = cross_val_predict(RFR,X,y)\n",
    "pred_KNNR = cross_val_predict(KNNR,X,y)\n",
    "pred_MLPR = cross_val_predict(MLPR,X,y)\n",
    "pred_DTR = cross_val_predict(DTR,X,y)\n",
    "pred_SVR = cross_val_predict(SVR_model,X,y)"
   ]
  },
  {
   "cell_type": "code",
   "execution_count": 91,
   "metadata": {},
   "outputs": [
    {
     "data": {
      "text/plain": [
       "(22L,)"
      ]
     },
     "execution_count": 91,
     "metadata": {},
     "output_type": "execute_result"
    },
    {
     "data": {
      "text/plain": [
       "(22L,)"
      ]
     },
     "execution_count": 91,
     "metadata": {},
     "output_type": "execute_result"
    },
    {
     "data": {
      "text/plain": [
       "(22L,)"
      ]
     },
     "execution_count": 91,
     "metadata": {},
     "output_type": "execute_result"
    },
    {
     "data": {
      "text/plain": [
       "(22L, 7L)"
      ]
     },
     "execution_count": 91,
     "metadata": {},
     "output_type": "execute_result"
    }
   ],
   "source": [
    "pred_RFR.shape\n",
    "pred_KNNR.shape\n",
    "pred_MLPR.shape\n",
    "X.shape"
   ]
  },
  {
   "cell_type": "code",
   "execution_count": 92,
   "metadata": {},
   "outputs": [],
   "source": [
    "df2['pred_RFR'] = pred_RFR\n",
    "df2['pred_KNNR'] = pred_KNNR\n",
    "df2['pred_MLPR'] = pred_MLPR\n",
    "df2['pred_DTR'] = pred_DTR\n",
    "df2['pred_SVR'] = pred_SVR"
   ]
  },
  {
   "cell_type": "code",
   "execution_count": 2,
   "metadata": {
    "collapsed": true
   },
   "outputs": [
    {
     "ename": "NameError",
     "evalue": "name 'df2' is not defined",
     "output_type": "error",
     "traceback": [
      "\u001b[1;31m---------------------------------------------------------------------------\u001b[0m",
      "\u001b[1;31mNameError\u001b[0m                                 Traceback (most recent call last)",
      "\u001b[1;32m<ipython-input-2-da126f80377e>\u001b[0m in \u001b[0;36m<module>\u001b[1;34m()\u001b[0m\n\u001b[1;32m----> 1\u001b[1;33m \u001b[0mdf2\u001b[0m\u001b[1;33m.\u001b[0m\u001b[0mhead\u001b[0m\u001b[1;33m(\u001b[0m\u001b[1;36m5\u001b[0m\u001b[1;33m)\u001b[0m\u001b[1;33m\u001b[0m\u001b[0m\n\u001b[0m",
      "\u001b[1;31mNameError\u001b[0m: name 'df2' is not defined"
     ]
    }
   ],
   "source": [
    "df2.head(5)"
   ]
  },
  {
   "cell_type": "code",
   "execution_count": 76,
   "metadata": {
    "collapsed": true
   },
   "outputs": [
    {
     "data": {
      "text/html": [
       "<iframe id=\"igraph\" scrolling=\"no\" style=\"border:none;\" seamless=\"seamless\" src=\"https://plot.ly/~asl4af/1223.embed\" height=\"525px\" width=\"100%\"></iframe>"
      ],
      "text/plain": [
       "<plotly.tools.PlotlyDisplay object>"
      ]
     },
     "execution_count": 76,
     "metadata": {},
     "output_type": "execute_result"
    }
   ],
   "source": [
    "df2[['ETF_Count','pred_RFR']].iplot(kind='scatter')"
   ]
  },
  {
   "cell_type": "code",
   "execution_count": 94,
   "metadata": {
    "collapsed": true
   },
   "outputs": [
    {
     "data": {
      "text/html": [
       "<iframe id=\"igraph\" scrolling=\"no\" style=\"border:none;\" seamless=\"seamless\" src=\"https://plot.ly/~asl4af/1225.embed\" height=\"525px\" width=\"100%\"></iframe>"
      ],
      "text/plain": [
       "<plotly.tools.PlotlyDisplay object>"
      ]
     },
     "execution_count": 94,
     "metadata": {},
     "output_type": "execute_result"
    }
   ],
   "source": [
    "df2[['ETF_Count','pred_SVR']].iplot(kind='scatter')"
   ]
  },
  {
   "cell_type": "code",
   "execution_count": 39,
   "metadata": {},
   "outputs": [
    {
     "ename": "NameError",
     "evalue": "name 'df3' is not defined",
     "output_type": "error",
     "traceback": [
      "\u001b[1;31m---------------------------------------------------------------------------\u001b[0m",
      "\u001b[1;31mNameError\u001b[0m                                 Traceback (most recent call last)",
      "\u001b[1;32m<ipython-input-39-da174377a2f3>\u001b[0m in \u001b[0;36m<module>\u001b[1;34m()\u001b[0m\n\u001b[1;32m----> 1\u001b[1;33m \u001b[0mdf3\u001b[0m\u001b[1;33m[\u001b[0m\u001b[1;33m[\u001b[0m\u001b[1;34m'priceClose'\u001b[0m\u001b[1;33m,\u001b[0m\u001b[1;34m'pred_KNNR'\u001b[0m\u001b[1;33m]\u001b[0m\u001b[1;33m]\u001b[0m\u001b[1;33m.\u001b[0m\u001b[0miplot\u001b[0m\u001b[1;33m(\u001b[0m\u001b[0mkind\u001b[0m\u001b[1;33m=\u001b[0m\u001b[1;34m'scatter'\u001b[0m\u001b[1;33m)\u001b[0m\u001b[1;33m\u001b[0m\u001b[0m\n\u001b[0m",
      "\u001b[1;31mNameError\u001b[0m: name 'df3' is not defined"
     ]
    }
   ],
   "source": [
    "df3[['priceClose','pred_KNNR']].iplot(kind='scatter')"
   ]
  },
  {
   "cell_type": "code",
   "execution_count": 31,
   "metadata": {},
   "outputs": [],
   "source": [
    "#pd.isnull(X).sum()\n",
    "#X"
   ]
  },
  {
   "cell_type": "code",
   "execution_count": 45,
   "metadata": {},
   "outputs": [
    {
     "name": "stdout",
     "output_type": "stream",
     "text": [
      "('TRAIN:', array([0, 1, 2, 3, 4, 5, 6], dtype=int64), 'TEST', array([ 7,  8,  9, 10, 11], dtype=int64))\n",
      "('TRAIN:', array([ 0,  1,  2,  3,  4,  5,  6,  7,  8,  9, 10, 11], dtype=int64), 'TEST', array([12, 13, 14, 15, 16], dtype=int64))\n",
      "('TRAIN:', array([ 0,  1,  2,  3,  4,  5,  6,  7,  8,  9, 10, 11, 12, 13, 14, 15, 16], dtype=int64), 'TEST', array([17, 18, 19, 20, 21], dtype=int64))\n"
     ]
    }
   ],
   "source": [
    "from sklearn.model_selection import TimeSeriesSplit\n",
    "\n",
    "tscv = TimeSeriesSplit(n_splits=3)\n",
    "\n",
    "for train_index, test_index in tscv.split(X):\n",
    "    print(\"TRAIN:\", train_index, \"TEST\", test_index)\n",
    "    X_train, X_test = X[train_index], X[test_index]\n",
    "    y_train, y_test = y[train_index], y[test_index]"
   ]
  },
  {
   "cell_type": "code",
   "execution_count": 46,
   "metadata": {},
   "outputs": [
    {
     "data": {
      "text/plain": [
       "0"
      ]
     },
     "execution_count": 46,
     "metadata": {},
     "output_type": "execute_result"
    },
    {
     "data": {
      "text/plain": [
       "2.2576174717296049"
      ]
     },
     "execution_count": 46,
     "metadata": {},
     "output_type": "execute_result"
    },
    {
     "data": {
      "text/plain": [
       "17"
      ]
     },
     "execution_count": 46,
     "metadata": {},
     "output_type": "execute_result"
    },
    {
     "data": {
      "text/plain": [
       "nan"
      ]
     },
     "execution_count": 46,
     "metadata": {},
     "output_type": "execute_result"
    }
   ],
   "source": [
    "pd.isnull(X_train).sum()\n",
    "X_train.max()\n",
    "\n",
    "pd.isnull(y_train).sum()\n",
    "y_train.max()\n",
    "\n",
    "y_train.dropna(axis=0,inplace=True)"
   ]
  },
  {
   "cell_type": "code",
   "execution_count": 38,
   "metadata": {},
   "outputs": [],
   "source": [
    "#RFR.fit(X_train, y_train)"
   ]
  },
  {
   "cell_type": "code",
   "execution_count": 50,
   "metadata": {},
   "outputs": [
    {
     "data": {
      "text/plain": [
       "'Test set score: -0.00427457528406'"
      ]
     },
     "execution_count": 50,
     "metadata": {},
     "output_type": "execute_result"
    }
   ],
   "source": [
    "\"Test set score: {:}\".format(RFR.score(X_test,y_test))"
   ]
  },
  {
   "cell_type": "markdown",
   "metadata": {},
   "source": [
    "Later on we'll use these to build a pipeline. But, for now we'll keep things a little more simple and look at some individual items.\n",
    "\n",
    "from sklearn.pipeline import Pipeline\n",
    "\n",
    "\n",
    "pipe = Pipeline([(\"PipeLine1\", preprocessing,\"RFR\",RandomForestRegressor())])"
   ]
  },
  {
   "cell_type": "code",
   "execution_count": 51,
   "metadata": {
    "collapsed": true
   },
   "outputs": [],
   "source": [
    "training_accuracy = []\n",
    "test_accuracy = []\n",
    "\n",
    "training_accuracy.append(RFR.score(X_train,y_train))\n",
    "test_accuracy.append(RFR.score(X_test,y_test))"
   ]
  },
  {
   "cell_type": "code",
   "execution_count": 52,
   "metadata": {},
   "outputs": [
    {
     "data": {
      "text/plain": [
       "[0.9979559872843059]"
      ]
     },
     "execution_count": 52,
     "metadata": {},
     "output_type": "execute_result"
    },
    {
     "data": {
      "text/plain": [
       "[-0.0042745752840591678]"
      ]
     },
     "execution_count": 52,
     "metadata": {},
     "output_type": "execute_result"
    }
   ],
   "source": [
    "training_accuracy\n",
    "test_accuracy"
   ]
  },
  {
   "cell_type": "markdown",
   "metadata": {},
   "source": [
    "Interesting note regarding the below code. If you have Jupyter Notebook's display features turned on and you include a line of code with the dataframe's name to get the values to print in the Jupyter Notebook's formatted table, it will return a formatted table of the results from the below for loop for every iteration and the stack them nicely within the same output block. \n",
    "\n",
    "This could be very useful for light debugging."
   ]
  },
  {
   "cell_type": "code",
   "execution_count": 65,
   "metadata": {},
   "outputs": [],
   "source": [
    "dataframe = DataFrame()\n",
    "for i in range(12,0,-1):\n",
    "    dataframe['t'] = df2['priceClose']\n",
    "    dataframe['t-'+str(i)] = df2['priceClose'].shift(i)"
   ]
  },
  {
   "cell_type": "code",
   "execution_count": 67,
   "metadata": {},
   "outputs": [
    {
     "data": {
      "text/html": [
       "<div>\n",
       "<table border=\"1\" class=\"dataframe\">\n",
       "  <thead>\n",
       "    <tr style=\"text-align: right;\">\n",
       "      <th></th>\n",
       "      <th>t</th>\n",
       "      <th>t-12</th>\n",
       "      <th>t-11</th>\n",
       "      <th>t-10</th>\n",
       "      <th>t-9</th>\n",
       "      <th>t-8</th>\n",
       "      <th>t-7</th>\n",
       "      <th>t-6</th>\n",
       "      <th>t-5</th>\n",
       "      <th>t-4</th>\n",
       "      <th>t-3</th>\n",
       "      <th>t-2</th>\n",
       "      <th>t-1</th>\n",
       "    </tr>\n",
       "    <tr>\n",
       "      <th>pricingDate</th>\n",
       "      <th></th>\n",
       "      <th></th>\n",
       "      <th></th>\n",
       "      <th></th>\n",
       "      <th></th>\n",
       "      <th></th>\n",
       "      <th></th>\n",
       "      <th></th>\n",
       "      <th></th>\n",
       "      <th></th>\n",
       "      <th></th>\n",
       "      <th></th>\n",
       "      <th></th>\n",
       "    </tr>\n",
       "  </thead>\n",
       "  <tbody>\n",
       "    <tr>\n",
       "      <th>1993-01-21</th>\n",
       "      <td>18.1875</td>\n",
       "      <td>20.000</td>\n",
       "      <td>20.125</td>\n",
       "      <td>20.125</td>\n",
       "      <td>19.500</td>\n",
       "      <td>19.125</td>\n",
       "      <td>19.1250</td>\n",
       "      <td>19.1250</td>\n",
       "      <td>18.7500</td>\n",
       "      <td>18.6250</td>\n",
       "      <td>18.8125</td>\n",
       "      <td>18.5000</td>\n",
       "      <td>18.3750</td>\n",
       "    </tr>\n",
       "    <tr>\n",
       "      <th>1993-01-22</th>\n",
       "      <td>18.0625</td>\n",
       "      <td>20.125</td>\n",
       "      <td>20.125</td>\n",
       "      <td>19.500</td>\n",
       "      <td>19.125</td>\n",
       "      <td>19.125</td>\n",
       "      <td>19.1250</td>\n",
       "      <td>18.7500</td>\n",
       "      <td>18.6250</td>\n",
       "      <td>18.8125</td>\n",
       "      <td>18.5000</td>\n",
       "      <td>18.3750</td>\n",
       "      <td>18.1875</td>\n",
       "    </tr>\n",
       "    <tr>\n",
       "      <th>1993-01-25</th>\n",
       "      <td>18.4375</td>\n",
       "      <td>20.125</td>\n",
       "      <td>19.500</td>\n",
       "      <td>19.125</td>\n",
       "      <td>19.125</td>\n",
       "      <td>19.125</td>\n",
       "      <td>18.7500</td>\n",
       "      <td>18.6250</td>\n",
       "      <td>18.8125</td>\n",
       "      <td>18.5000</td>\n",
       "      <td>18.3750</td>\n",
       "      <td>18.1875</td>\n",
       "      <td>18.0625</td>\n",
       "    </tr>\n",
       "    <tr>\n",
       "      <th>1993-01-26</th>\n",
       "      <td>17.7500</td>\n",
       "      <td>19.500</td>\n",
       "      <td>19.125</td>\n",
       "      <td>19.125</td>\n",
       "      <td>19.125</td>\n",
       "      <td>18.750</td>\n",
       "      <td>18.6250</td>\n",
       "      <td>18.8125</td>\n",
       "      <td>18.5000</td>\n",
       "      <td>18.3750</td>\n",
       "      <td>18.1875</td>\n",
       "      <td>18.0625</td>\n",
       "      <td>18.4375</td>\n",
       "    </tr>\n",
       "    <tr>\n",
       "      <th>1993-01-27</th>\n",
       "      <td>17.3125</td>\n",
       "      <td>19.125</td>\n",
       "      <td>19.125</td>\n",
       "      <td>19.125</td>\n",
       "      <td>18.750</td>\n",
       "      <td>18.625</td>\n",
       "      <td>18.8125</td>\n",
       "      <td>18.5000</td>\n",
       "      <td>18.3750</td>\n",
       "      <td>18.1875</td>\n",
       "      <td>18.0625</td>\n",
       "      <td>18.4375</td>\n",
       "      <td>17.7500</td>\n",
       "    </tr>\n",
       "  </tbody>\n",
       "</table>\n",
       "</div>"
      ],
      "text/plain": [
       "                   t    t-12    t-11    t-10     t-9     t-8      t-7  \\\n",
       "pricingDate                                                             \n",
       "1993-01-21   18.1875  20.000  20.125  20.125  19.500  19.125  19.1250   \n",
       "1993-01-22   18.0625  20.125  20.125  19.500  19.125  19.125  19.1250   \n",
       "1993-01-25   18.4375  20.125  19.500  19.125  19.125  19.125  18.7500   \n",
       "1993-01-26   17.7500  19.500  19.125  19.125  19.125  18.750  18.6250   \n",
       "1993-01-27   17.3125  19.125  19.125  19.125  18.750  18.625  18.8125   \n",
       "\n",
       "                 t-6      t-5      t-4      t-3      t-2      t-1  \n",
       "pricingDate                                                        \n",
       "1993-01-21   19.1250  18.7500  18.6250  18.8125  18.5000  18.3750  \n",
       "1993-01-22   18.7500  18.6250  18.8125  18.5000  18.3750  18.1875  \n",
       "1993-01-25   18.6250  18.8125  18.5000  18.3750  18.1875  18.0625  \n",
       "1993-01-26   18.8125  18.5000  18.3750  18.1875  18.0625  18.4375  \n",
       "1993-01-27   18.5000  18.3750  18.1875  18.0625  18.4375  17.7500  "
      ]
     },
     "execution_count": 67,
     "metadata": {},
     "output_type": "execute_result"
    }
   ],
   "source": [
    "dataframe[13:].head(5)"
   ]
  },
  {
   "cell_type": "markdown",
   "metadata": {},
   "source": [
    "We can now return all the values of the dataframe object and skip the NAs with the below (and/or the above) code. \n",
    "\n",
    "NOTE: The NAs are still in the dataframe object, we haven't removed them. We're simply slicing the dataframe object and excluding them in the slice."
   ]
  },
  {
   "cell_type": "code",
   "execution_count": 68,
   "metadata": {},
   "outputs": [],
   "source": [
    "#dataframe[13:]"
   ]
  },
  {
   "cell_type": "code",
   "execution_count": 73,
   "metadata": {},
   "outputs": [
    {
     "data": {
      "text/plain": [
       "<matplotlib.axes._subplots.AxesSubplot at 0x2c09b3c8>"
      ]
     },
     "execution_count": 73,
     "metadata": {},
     "output_type": "execute_result"
    },
    {
     "data": {
      "image/png": "[encoded data removed]",
      "text/plain": [
       "<matplotlib.figure.Figure at 0x2c06a4e0>"
      ]
     },
     "metadata": {},
     "output_type": "display_data"
    }
   ],
   "source": [
    "f, ax = plt.subplots(figsize=(24,12))\n",
    "\n",
    "dataframe.iloc[13:60,:].plot(kind='line',ax=ax)"
   ]
  },
  {
   "cell_type": "code",
   "execution_count": 21,
   "metadata": {},
   "outputs": [],
   "source": [
    "def GetData2():\n",
    "    stmt = (\"SELECT mth.asofdate, mth.factorid, mth.factorvalue, mth.gvkey, mth.universeId, f.factorname \\\n",
    "            FROM ciqAfValueMonthlyNA mth \\\n",
    "            inner join ciqAfFactor f \\\n",
    "            on mth.factorid = f.factorid \\\n",
    "            WHERE mth.GVKey in ('001004','001045','001009','001011','001013','001078','001082','001094','001098','001099') \\\n",
    "            and mth.asOfDate BETWEEN '1/1/2000' and '6/14/2017' \\\n",
    "            ORDER BY mth.factorid\")\n",
    "    df = pd.read_sql(stmt,pysqlconn1,parse_dates=True,index_col=['gvkey','factorname','asofdate'])\n",
    "    #df = df.pivot(index='gvkey',columns='factorname',values='factorvalue')\n",
    "    #df.dropna(axis=1,inplace=True)\n",
    "    #df2 = df.to_dict(orient='dict')\n",
    "    #df2 = {}\n",
    "    \n",
    "    return df"
   ]
  },
  {
   "cell_type": "code",
   "execution_count": 22,
   "metadata": {},
   "outputs": [
    {
     "name": "stdout",
     "output_type": "stream",
     "text": [
      "Wall time: 2min 11s\n"
     ]
    }
   ],
   "source": [
    "%%time\n",
    "df_2 = GetData2()"
   ]
  },
  {
   "cell_type": "code",
   "execution_count": 23,
   "metadata": {},
   "outputs": [
    {
     "data": {
      "text/html": [
       "<div>\n",
       "<table border=\"1\" class=\"dataframe\">\n",
       "  <thead>\n",
       "    <tr style=\"text-align: right;\">\n",
       "      <th></th>\n",
       "      <th></th>\n",
       "      <th></th>\n",
       "      <th>factorid</th>\n",
       "      <th>factorvalue</th>\n",
       "      <th>universeId</th>\n",
       "    </tr>\n",
       "    <tr>\n",
       "      <th>gvkey</th>\n",
       "      <th>factorname</th>\n",
       "      <th>asofdate</th>\n",
       "      <th></th>\n",
       "      <th></th>\n",
       "      <th></th>\n",
       "    </tr>\n",
       "  </thead>\n",
       "  <tbody>\n",
       "    <tr>\n",
       "      <th rowspan=\"5\" valign=\"top\">001004</th>\n",
       "      <th rowspan=\"5\" valign=\"top\">Return on Invested Capital</th>\n",
       "      <th>2000-01-31</th>\n",
       "      <td>2</td>\n",
       "      <td>0.112534</td>\n",
       "      <td>2109</td>\n",
       "    </tr>\n",
       "    <tr>\n",
       "      <th>2000-02-29</th>\n",
       "      <td>2</td>\n",
       "      <td>0.112534</td>\n",
       "      <td>2109</td>\n",
       "    </tr>\n",
       "    <tr>\n",
       "      <th>2000-03-31</th>\n",
       "      <td>2</td>\n",
       "      <td>0.112534</td>\n",
       "      <td>2109</td>\n",
       "    </tr>\n",
       "    <tr>\n",
       "      <th>2000-04-30</th>\n",
       "      <td>2</td>\n",
       "      <td>0.113815</td>\n",
       "      <td>2109</td>\n",
       "    </tr>\n",
       "    <tr>\n",
       "      <th>2000-05-31</th>\n",
       "      <td>2</td>\n",
       "      <td>0.113815</td>\n",
       "      <td>2109</td>\n",
       "    </tr>\n",
       "  </tbody>\n",
       "</table>\n",
       "</div>"
      ],
      "text/plain": [
       "                                              factorid  factorvalue  \\\n",
       "gvkey  factorname                 asofdate                            \n",
       "001004 Return on Invested Capital 2000-01-31         2     0.112534   \n",
       "                                  2000-02-29         2     0.112534   \n",
       "                                  2000-03-31         2     0.112534   \n",
       "                                  2000-04-30         2     0.113815   \n",
       "                                  2000-05-31         2     0.113815   \n",
       "\n",
       "                                              universeId  \n",
       "gvkey  factorname                 asofdate                \n",
       "001004 Return on Invested Capital 2000-01-31        2109  \n",
       "                                  2000-02-29        2109  \n",
       "                                  2000-03-31        2109  \n",
       "                                  2000-04-30        2109  \n",
       "                                  2000-05-31        2109  "
      ]
     },
     "execution_count": 23,
     "metadata": {},
     "output_type": "execute_result"
    }
   ],
   "source": [
    "#df123.head()\n",
    "df_2.head()"
   ]
  },
  {
   "cell_type": "code",
   "execution_count": 40,
   "metadata": {},
   "outputs": [
    {
     "data": {
      "text/html": [
       "<div>\n",
       "<table border=\"1\" class=\"dataframe\">\n",
       "  <thead>\n",
       "    <tr style=\"text-align: right;\">\n",
       "      <th></th>\n",
       "      <th></th>\n",
       "      <th>factorid</th>\n",
       "      <th>factorvalue</th>\n",
       "      <th>universeId</th>\n",
       "    </tr>\n",
       "    <tr>\n",
       "      <th>factorname</th>\n",
       "      <th>asofdate</th>\n",
       "      <th></th>\n",
       "      <th></th>\n",
       "      <th></th>\n",
       "    </tr>\n",
       "  </thead>\n",
       "  <tbody>\n",
       "    <tr>\n",
       "      <th rowspan=\"5\" valign=\"top\">Return on Invested Capital</th>\n",
       "      <th>2000-01-31</th>\n",
       "      <td>2</td>\n",
       "      <td>0.112534</td>\n",
       "      <td>2109</td>\n",
       "    </tr>\n",
       "    <tr>\n",
       "      <th>2000-02-29</th>\n",
       "      <td>2</td>\n",
       "      <td>0.112534</td>\n",
       "      <td>2109</td>\n",
       "    </tr>\n",
       "    <tr>\n",
       "      <th>2000-03-31</th>\n",
       "      <td>2</td>\n",
       "      <td>0.112534</td>\n",
       "      <td>2109</td>\n",
       "    </tr>\n",
       "    <tr>\n",
       "      <th>2000-04-30</th>\n",
       "      <td>2</td>\n",
       "      <td>0.113815</td>\n",
       "      <td>2109</td>\n",
       "    </tr>\n",
       "    <tr>\n",
       "      <th>2000-05-31</th>\n",
       "      <td>2</td>\n",
       "      <td>0.113815</td>\n",
       "      <td>2109</td>\n",
       "    </tr>\n",
       "  </tbody>\n",
       "</table>\n",
       "</div>"
      ],
      "text/plain": [
       "                                       factorid  factorvalue  universeId\n",
       "factorname                 asofdate                                     \n",
       "Return on Invested Capital 2000-01-31         2     0.112534        2109\n",
       "                           2000-02-29         2     0.112534        2109\n",
       "                           2000-03-31         2     0.112534        2109\n",
       "                           2000-04-30         2     0.113815        2109\n",
       "                           2000-05-31         2     0.113815        2109"
      ]
     },
     "execution_count": 40,
     "metadata": {},
     "output_type": "execute_result"
    }
   ],
   "source": [
    "df_2.loc['001004'].head()"
   ]
  },
  {
   "cell_type": "code",
   "execution_count": 25,
   "metadata": {},
   "outputs": [],
   "source": [
    "def GetData2():\n",
    "    stmt = (\"SELECT mth.asofdate, mth.factorvalue, mth.gvkey, f.factorname \\\n",
    "            FROM ciqAfValueMonthlyNA mth \\\n",
    "            inner join ciqAfFactor f \\\n",
    "            on mth.factorid = f.factorid \\\n",
    "            WHERE mth.GVKey in ('001004','001045','001009','001011','001013','001078','001082','001094','001098','001099') \\\n",
    "            and mth.asOfDate BETWEEN '1/1/2000' and '6/14/2017' \\\n",
    "            ORDER BY mth.factorid\")\n",
    "    df = pd.read_sql(stmt,pysqlconn1,parse_dates=True,index_col=['factorname','gvkey','asofdate'])\n",
    "    #df = df.pivot(index='gvkey',columns='factorname',values='factorvalue')\n",
    "    #df.dropna(axis=1,inplace=True)\n",
    "    #df2 = df.to_dict(orient='dict')\n",
    "    #df2 = {}\n",
    "    \n",
    "    return df"
   ]
  },
  {
   "cell_type": "code",
   "execution_count": 26,
   "metadata": {},
   "outputs": [
    {
     "name": "stdout",
     "output_type": "stream",
     "text": [
      "Wall time: 2min 20s\n"
     ]
    }
   ],
   "source": [
    "%%time\n",
    "df_3 = GetData2()"
   ]
  },
  {
   "cell_type": "code",
   "execution_count": 27,
   "metadata": {},
   "outputs": [
    {
     "data": {
      "text/html": [
       "<div>\n",
       "<table border=\"1\" class=\"dataframe\">\n",
       "  <thead>\n",
       "    <tr style=\"text-align: right;\">\n",
       "      <th></th>\n",
       "      <th></th>\n",
       "      <th></th>\n",
       "      <th>factorvalue</th>\n",
       "    </tr>\n",
       "    <tr>\n",
       "      <th>factorname</th>\n",
       "      <th>gvkey</th>\n",
       "      <th>asofdate</th>\n",
       "      <th></th>\n",
       "    </tr>\n",
       "  </thead>\n",
       "  <tbody>\n",
       "    <tr>\n",
       "      <th rowspan=\"5\" valign=\"top\">Return on Invested Capital</th>\n",
       "      <th rowspan=\"5\" valign=\"top\">001004</th>\n",
       "      <th>2000-01-31</th>\n",
       "      <td>0.112534</td>\n",
       "    </tr>\n",
       "    <tr>\n",
       "      <th>2000-02-29</th>\n",
       "      <td>0.112534</td>\n",
       "    </tr>\n",
       "    <tr>\n",
       "      <th>2000-03-31</th>\n",
       "      <td>0.112534</td>\n",
       "    </tr>\n",
       "    <tr>\n",
       "      <th>2000-04-30</th>\n",
       "      <td>0.113815</td>\n",
       "    </tr>\n",
       "    <tr>\n",
       "      <th>2000-05-31</th>\n",
       "      <td>0.113815</td>\n",
       "    </tr>\n",
       "  </tbody>\n",
       "</table>\n",
       "</div>"
      ],
      "text/plain": [
       "                                              factorvalue\n",
       "factorname                 gvkey  asofdate               \n",
       "Return on Invested Capital 001004 2000-01-31     0.112534\n",
       "                                  2000-02-29     0.112534\n",
       "                                  2000-03-31     0.112534\n",
       "                                  2000-04-30     0.113815\n",
       "                                  2000-05-31     0.113815"
      ]
     },
     "execution_count": 27,
     "metadata": {},
     "output_type": "execute_result"
    }
   ],
   "source": [
    "df_3.head()"
   ]
  },
  {
   "cell_type": "code",
   "execution_count": 57,
   "metadata": {},
   "outputs": [
    {
     "data": {
      "text/html": [
       "<div>\n",
       "<table border=\"1\" class=\"dataframe\">\n",
       "  <thead>\n",
       "    <tr style=\"text-align: right;\">\n",
       "      <th></th>\n",
       "      <th></th>\n",
       "      <th>factorvalue</th>\n",
       "    </tr>\n",
       "    <tr>\n",
       "      <th>gvkey</th>\n",
       "      <th>asofdate</th>\n",
       "      <th></th>\n",
       "    </tr>\n",
       "  </thead>\n",
       "  <tbody>\n",
       "    <tr>\n",
       "      <th rowspan=\"5\" valign=\"top\">001004</th>\n",
       "      <th>2000-01-31</th>\n",
       "      <td>-2.001600</td>\n",
       "    </tr>\n",
       "    <tr>\n",
       "      <th>2000-02-29</th>\n",
       "      <td>-3.224280</td>\n",
       "    </tr>\n",
       "    <tr>\n",
       "      <th>2000-03-31</th>\n",
       "      <td>5.466660</td>\n",
       "    </tr>\n",
       "    <tr>\n",
       "      <th>2000-04-30</th>\n",
       "      <td>0.213758</td>\n",
       "    </tr>\n",
       "    <tr>\n",
       "      <th>2000-05-31</th>\n",
       "      <td>-0.799598</td>\n",
       "    </tr>\n",
       "  </tbody>\n",
       "</table>\n",
       "</div>"
      ],
      "text/plain": [
       "                   factorvalue\n",
       "gvkey  asofdate               \n",
       "001004 2000-01-31    -2.001600\n",
       "       2000-02-29    -3.224280\n",
       "       2000-03-31     5.466660\n",
       "       2000-04-30     0.213758\n",
       "       2000-05-31    -0.799598"
      ]
     },
     "execution_count": 57,
     "metadata": {},
     "output_type": "execute_result"
    }
   ],
   "source": [
    "df_3.loc['Volatility adjusted 12M return'].head(5)"
   ]
  },
  {
   "cell_type": "code",
   "execution_count": 51,
   "metadata": {
    "collapsed": true
   },
   "outputs": [
    {
     "data": {
      "text/html": [
       "<iframe id=\"igraph\" scrolling=\"no\" style=\"border:none;\" seamless=\"seamless\" src=\"https://plot.ly/~asl4af/1301.embed\" height=\"525px\" width=\"100%\"></iframe>"
      ],
      "text/plain": [
       "<plotly.tools.PlotlyDisplay object>"
      ]
     },
     "execution_count": 51,
     "metadata": {},
     "output_type": "execute_result"
    }
   ],
   "source": [
    "df_3.loc['Return on Invested Capital'].iplot(kind='histogram',theme='white')"
   ]
  },
  {
   "cell_type": "code",
   "execution_count": 49,
   "metadata": {
    "collapsed": true
   },
   "outputs": [
    {
     "data": {
      "text/html": [
       "<iframe id=\"igraph\" scrolling=\"no\" style=\"border:none;\" seamless=\"seamless\" src=\"https://plot.ly/~asl4af/1299.embed\" height=\"525px\" width=\"100%\"></iframe>"
      ],
      "text/plain": [
       "<plotly.tools.PlotlyDisplay object>"
      ]
     },
     "execution_count": 49,
     "metadata": {},
     "output_type": "execute_result"
    }
   ],
   "source": [
    "df_3.loc['Sharpe Ratio'].iplot(kind='histogram',theme='white')"
   ]
  },
  {
   "cell_type": "code",
   "execution_count": 75,
   "metadata": {},
   "outputs": [],
   "source": [
    "#df2 = df1\n",
    "y = df_3.loc['Volatility adjusted 12M return'].shift(-1)\n",
    "y.fillna(value=-99999,inplace=True)\n",
    "#x = df_3.loc['Volatility adjusted 12M return'].drop(['Volatility adjusted 12M return'],axis=1)\n",
    "X = df_3\n",
    "feature_names = list(X.columns)"
   ]
  },
  {
   "cell_type": "code",
   "execution_count": 76,
   "metadata": {},
   "outputs": [
    {
     "name": "stdout",
     "output_type": "stream",
     "text": [
      "('TRAIN:', array([     0,      1,      2, ..., 162732, 162733, 162734]), 'TEST', array([162735, 162736, 162737, ..., 325466, 325467, 325468]))\n"
     ]
    },
    {
     "ename": "IndexError",
     "evalue": "indices are out-of-bounds",
     "output_type": "error",
     "traceback": [
      "\u001b[1;31m---------------------------------------------------------------------------\u001b[0m",
      "\u001b[1;31mIndexError\u001b[0m                                Traceback (most recent call last)",
      "\u001b[1;32m<ipython-input-76-e0fd5895ffc8>\u001b[0m in \u001b[0;36m<module>\u001b[1;34m()\u001b[0m\n\u001b[0;32m      5\u001b[0m \u001b[1;32mfor\u001b[0m \u001b[0mtrain_index\u001b[0m\u001b[1;33m,\u001b[0m \u001b[0mtest_index\u001b[0m \u001b[1;32min\u001b[0m \u001b[0mtscv\u001b[0m\u001b[1;33m.\u001b[0m\u001b[0msplit\u001b[0m\u001b[1;33m(\u001b[0m\u001b[0mX\u001b[0m\u001b[1;33m)\u001b[0m\u001b[1;33m:\u001b[0m\u001b[1;33m\u001b[0m\u001b[0m\n\u001b[0;32m      6\u001b[0m     \u001b[1;32mprint\u001b[0m\u001b[1;33m(\u001b[0m\u001b[1;34m\"TRAIN:\"\u001b[0m\u001b[1;33m,\u001b[0m \u001b[0mtrain_index\u001b[0m\u001b[1;33m,\u001b[0m \u001b[1;34m\"TEST\"\u001b[0m\u001b[1;33m,\u001b[0m \u001b[0mtest_index\u001b[0m\u001b[1;33m)\u001b[0m\u001b[1;33m\u001b[0m\u001b[0m\n\u001b[1;32m----> 7\u001b[1;33m     \u001b[0mX_train\u001b[0m\u001b[1;33m,\u001b[0m \u001b[0mX_test\u001b[0m \u001b[1;33m=\u001b[0m \u001b[0mX\u001b[0m\u001b[1;33m[\u001b[0m\u001b[0mtrain_index\u001b[0m\u001b[1;33m]\u001b[0m\u001b[1;33m,\u001b[0m \u001b[0mX\u001b[0m\u001b[1;33m[\u001b[0m\u001b[0mtest_index\u001b[0m\u001b[1;33m]\u001b[0m\u001b[1;33m\u001b[0m\u001b[0m\n\u001b[0m\u001b[0;32m      8\u001b[0m     \u001b[0my_train\u001b[0m\u001b[1;33m,\u001b[0m \u001b[0my_test\u001b[0m \u001b[1;33m=\u001b[0m \u001b[0my\u001b[0m\u001b[1;33m[\u001b[0m\u001b[0mtrain_index\u001b[0m\u001b[1;33m]\u001b[0m\u001b[1;33m,\u001b[0m \u001b[0my\u001b[0m\u001b[1;33m[\u001b[0m\u001b[0mtest_index\u001b[0m\u001b[1;33m]\u001b[0m\u001b[1;33m\u001b[0m\u001b[0m\n",
      "\u001b[1;32mC:\\Anaconda\\lib\\site-packages\\pandas\\core\\frame.pyc\u001b[0m in \u001b[0;36m__getitem__\u001b[1;34m(self, key)\u001b[0m\n\u001b[0;32m   2051\u001b[0m         \u001b[1;32mif\u001b[0m \u001b[0misinstance\u001b[0m\u001b[1;33m(\u001b[0m\u001b[0mkey\u001b[0m\u001b[1;33m,\u001b[0m \u001b[1;33m(\u001b[0m\u001b[0mSeries\u001b[0m\u001b[1;33m,\u001b[0m \u001b[0mnp\u001b[0m\u001b[1;33m.\u001b[0m\u001b[0mndarray\u001b[0m\u001b[1;33m,\u001b[0m \u001b[0mIndex\u001b[0m\u001b[1;33m,\u001b[0m \u001b[0mlist\u001b[0m\u001b[1;33m)\u001b[0m\u001b[1;33m)\u001b[0m\u001b[1;33m:\u001b[0m\u001b[1;33m\u001b[0m\u001b[0m\n\u001b[0;32m   2052\u001b[0m             \u001b[1;31m# either boolean or fancy integer index\u001b[0m\u001b[1;33m\u001b[0m\u001b[1;33m\u001b[0m\u001b[0m\n\u001b[1;32m-> 2053\u001b[1;33m             \u001b[1;32mreturn\u001b[0m \u001b[0mself\u001b[0m\u001b[1;33m.\u001b[0m\u001b[0m_getitem_array\u001b[0m\u001b[1;33m(\u001b[0m\u001b[0mkey\u001b[0m\u001b[1;33m)\u001b[0m\u001b[1;33m\u001b[0m\u001b[0m\n\u001b[0m\u001b[0;32m   2054\u001b[0m         \u001b[1;32melif\u001b[0m \u001b[0misinstance\u001b[0m\u001b[1;33m(\u001b[0m\u001b[0mkey\u001b[0m\u001b[1;33m,\u001b[0m \u001b[0mDataFrame\u001b[0m\u001b[1;33m)\u001b[0m\u001b[1;33m:\u001b[0m\u001b[1;33m\u001b[0m\u001b[0m\n\u001b[0;32m   2055\u001b[0m             \u001b[1;32mreturn\u001b[0m \u001b[0mself\u001b[0m\u001b[1;33m.\u001b[0m\u001b[0m_getitem_frame\u001b[0m\u001b[1;33m(\u001b[0m\u001b[0mkey\u001b[0m\u001b[1;33m)\u001b[0m\u001b[1;33m\u001b[0m\u001b[0m\n",
      "\u001b[1;32mC:\\Anaconda\\lib\\site-packages\\pandas\\core\\frame.pyc\u001b[0m in \u001b[0;36m_getitem_array\u001b[1;34m(self, key)\u001b[0m\n\u001b[0;32m   2096\u001b[0m         \u001b[1;32melse\u001b[0m\u001b[1;33m:\u001b[0m\u001b[1;33m\u001b[0m\u001b[0m\n\u001b[0;32m   2097\u001b[0m             \u001b[0mindexer\u001b[0m \u001b[1;33m=\u001b[0m \u001b[0mself\u001b[0m\u001b[1;33m.\u001b[0m\u001b[0mix\u001b[0m\u001b[1;33m.\u001b[0m\u001b[0m_convert_to_indexer\u001b[0m\u001b[1;33m(\u001b[0m\u001b[0mkey\u001b[0m\u001b[1;33m,\u001b[0m \u001b[0maxis\u001b[0m\u001b[1;33m=\u001b[0m\u001b[1;36m1\u001b[0m\u001b[1;33m)\u001b[0m\u001b[1;33m\u001b[0m\u001b[0m\n\u001b[1;32m-> 2098\u001b[1;33m             \u001b[1;32mreturn\u001b[0m \u001b[0mself\u001b[0m\u001b[1;33m.\u001b[0m\u001b[0mtake\u001b[0m\u001b[1;33m(\u001b[0m\u001b[0mindexer\u001b[0m\u001b[1;33m,\u001b[0m \u001b[0maxis\u001b[0m\u001b[1;33m=\u001b[0m\u001b[1;36m1\u001b[0m\u001b[1;33m,\u001b[0m \u001b[0mconvert\u001b[0m\u001b[1;33m=\u001b[0m\u001b[0mTrue\u001b[0m\u001b[1;33m)\u001b[0m\u001b[1;33m\u001b[0m\u001b[0m\n\u001b[0m\u001b[0;32m   2099\u001b[0m \u001b[1;33m\u001b[0m\u001b[0m\n\u001b[0;32m   2100\u001b[0m     \u001b[1;32mdef\u001b[0m \u001b[0m_getitem_multilevel\u001b[0m\u001b[1;33m(\u001b[0m\u001b[0mself\u001b[0m\u001b[1;33m,\u001b[0m \u001b[0mkey\u001b[0m\u001b[1;33m)\u001b[0m\u001b[1;33m:\u001b[0m\u001b[1;33m\u001b[0m\u001b[0m\n",
      "\u001b[1;32mC:\\Anaconda\\lib\\site-packages\\pandas\\core\\generic.pyc\u001b[0m in \u001b[0;36mtake\u001b[1;34m(self, indices, axis, convert, is_copy, **kwargs)\u001b[0m\n\u001b[0;32m   1667\u001b[0m         new_data = self._data.take(indices,\n\u001b[0;32m   1668\u001b[0m                                    \u001b[0maxis\u001b[0m\u001b[1;33m=\u001b[0m\u001b[0mself\u001b[0m\u001b[1;33m.\u001b[0m\u001b[0m_get_block_manager_axis\u001b[0m\u001b[1;33m(\u001b[0m\u001b[0maxis\u001b[0m\u001b[1;33m)\u001b[0m\u001b[1;33m,\u001b[0m\u001b[1;33m\u001b[0m\u001b[0m\n\u001b[1;32m-> 1669\u001b[1;33m                                    convert=True, verify=True)\n\u001b[0m\u001b[0;32m   1670\u001b[0m         \u001b[0mresult\u001b[0m \u001b[1;33m=\u001b[0m \u001b[0mself\u001b[0m\u001b[1;33m.\u001b[0m\u001b[0m_constructor\u001b[0m\u001b[1;33m(\u001b[0m\u001b[0mnew_data\u001b[0m\u001b[1;33m)\u001b[0m\u001b[1;33m.\u001b[0m\u001b[0m__finalize__\u001b[0m\u001b[1;33m(\u001b[0m\u001b[0mself\u001b[0m\u001b[1;33m)\u001b[0m\u001b[1;33m\u001b[0m\u001b[0m\n\u001b[0;32m   1671\u001b[0m \u001b[1;33m\u001b[0m\u001b[0m\n",
      "\u001b[1;32mC:\\Anaconda\\lib\\site-packages\\pandas\\core\\internals.pyc\u001b[0m in \u001b[0;36mtake\u001b[1;34m(self, indexer, axis, verify, convert)\u001b[0m\n\u001b[0;32m   3953\u001b[0m         \u001b[0mn\u001b[0m \u001b[1;33m=\u001b[0m \u001b[0mself\u001b[0m\u001b[1;33m.\u001b[0m\u001b[0mshape\u001b[0m\u001b[1;33m[\u001b[0m\u001b[0maxis\u001b[0m\u001b[1;33m]\u001b[0m\u001b[1;33m\u001b[0m\u001b[0m\n\u001b[0;32m   3954\u001b[0m         \u001b[1;32mif\u001b[0m \u001b[0mconvert\u001b[0m\u001b[1;33m:\u001b[0m\u001b[1;33m\u001b[0m\u001b[0m\n\u001b[1;32m-> 3955\u001b[1;33m             \u001b[0mindexer\u001b[0m \u001b[1;33m=\u001b[0m \u001b[0mmaybe_convert_indices\u001b[0m\u001b[1;33m(\u001b[0m\u001b[0mindexer\u001b[0m\u001b[1;33m,\u001b[0m \u001b[0mn\u001b[0m\u001b[1;33m)\u001b[0m\u001b[1;33m\u001b[0m\u001b[0m\n\u001b[0m\u001b[0;32m   3956\u001b[0m \u001b[1;33m\u001b[0m\u001b[0m\n\u001b[0;32m   3957\u001b[0m         \u001b[1;32mif\u001b[0m \u001b[0mverify\u001b[0m\u001b[1;33m:\u001b[0m\u001b[1;33m\u001b[0m\u001b[0m\n",
      "\u001b[1;32mC:\\Anaconda\\lib\\site-packages\\pandas\\core\\indexing.pyc\u001b[0m in \u001b[0;36mmaybe_convert_indices\u001b[1;34m(indices, n)\u001b[0m\n\u001b[0;32m   1871\u001b[0m     \u001b[0mmask\u001b[0m \u001b[1;33m=\u001b[0m \u001b[1;33m(\u001b[0m\u001b[0mindices\u001b[0m \u001b[1;33m>=\u001b[0m \u001b[0mn\u001b[0m\u001b[1;33m)\u001b[0m \u001b[1;33m|\u001b[0m \u001b[1;33m(\u001b[0m\u001b[0mindices\u001b[0m \u001b[1;33m<\u001b[0m \u001b[1;36m0\u001b[0m\u001b[1;33m)\u001b[0m\u001b[1;33m\u001b[0m\u001b[0m\n\u001b[0;32m   1872\u001b[0m     \u001b[1;32mif\u001b[0m \u001b[0mmask\u001b[0m\u001b[1;33m.\u001b[0m\u001b[0many\u001b[0m\u001b[1;33m(\u001b[0m\u001b[1;33m)\u001b[0m\u001b[1;33m:\u001b[0m\u001b[1;33m\u001b[0m\u001b[0m\n\u001b[1;32m-> 1873\u001b[1;33m         \u001b[1;32mraise\u001b[0m \u001b[0mIndexError\u001b[0m\u001b[1;33m(\u001b[0m\u001b[1;34m\"indices are out-of-bounds\"\u001b[0m\u001b[1;33m)\u001b[0m\u001b[1;33m\u001b[0m\u001b[0m\n\u001b[0m\u001b[0;32m   1874\u001b[0m     \u001b[1;32mreturn\u001b[0m \u001b[0mindices\u001b[0m\u001b[1;33m\u001b[0m\u001b[0m\n\u001b[0;32m   1875\u001b[0m \u001b[1;33m\u001b[0m\u001b[0m\n",
      "\u001b[1;31mIndexError\u001b[0m: indices are out-of-bounds"
     ]
    }
   ],
   "source": [
    "from sklearn.model_selection import TimeSeriesSplit\n",
    "\n",
    "tscv = TimeSeriesSplit(n_splits=3)\n",
    "\n",
    "for train_index, test_index in tscv.split(X):\n",
    "    print(\"TRAIN:\", train_index, \"TEST\", test_index)\n",
    "    X_train, X_test = X[train_index], X[test_index]\n",
    "    y_train, y_test = y[train_index], y[test_index]"
   ]
  },
  {
   "cell_type": "code",
   "execution_count": null,
   "metadata": {
    "collapsed": true
   },
   "outputs": [],
   "source": []
  }
 ],
 "metadata": {
  "kernelspec": {
   "display_name": "Python 3",
   "language": "python",
   "name": "python3"
  },
  "language_info": {
   "codemirror_mode": {
    "name": "ipython",
    "version": 3
   },
   "file_extension": ".py",
   "mimetype": "text/x-python",
   "name": "python",
   "nbconvert_exporter": "python",
   "pygments_lexer": "ipython3",
   "version": "3.7.1"
  }
 },
 "nbformat": 4,
 "nbformat_minor": 2
}
